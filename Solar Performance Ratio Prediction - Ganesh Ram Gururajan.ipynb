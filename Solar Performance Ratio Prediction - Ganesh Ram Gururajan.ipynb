{
 "cells": [
  {
   "cell_type": "markdown",
   "metadata": {},
   "source": [
    "# Performance Ratio Prediction using Machine Learning Tehcniques - Ganesh Ram Guruajan"
   ]
  },
  {
   "cell_type": "markdown",
   "metadata": {},
   "source": [
    "### Project Description: Here we have a filtered dataset obtained from WMS, and uploaded by a user on Kaggle, this data contains a few columns along with performance ratio for each row of data. Hence we use machine learning to predict performace ratio for any new data that can be fed to the model"
   ]
  },
  {
   "cell_type": "markdown",
   "metadata": {},
   "source": [
    "### Advantages: Predetermination of plant performance, and improved business decisions"
   ]
  },
  {
   "cell_type": "markdown",
   "metadata": {},
   "source": [
    "### Disadvantages: Needs heavy collection of propriotary data for better accuracy in prediction"
   ]
  },
  {
   "cell_type": "code",
   "execution_count": 1,
   "metadata": {},
   "outputs": [],
   "source": [
    "import pandas as pd\n",
    "import seaborn as sns"
   ]
  },
  {
   "cell_type": "code",
   "execution_count": 2,
   "metadata": {},
   "outputs": [],
   "source": [
    "data = pd.read_csv('C:/Users/ganes/Data Science/Datasets/Extracted_data_file.csv')"
   ]
  },
  {
   "cell_type": "markdown",
   "metadata": {},
   "source": [
    "# Basic view of the data"
   ]
  },
  {
   "cell_type": "code",
   "execution_count": 3,
   "metadata": {},
   "outputs": [
    {
     "data": {
      "text/html": [
       "<div>\n",
       "<style scoped>\n",
       "    .dataframe tbody tr th:only-of-type {\n",
       "        vertical-align: middle;\n",
       "    }\n",
       "\n",
       "    .dataframe tbody tr th {\n",
       "        vertical-align: top;\n",
       "    }\n",
       "\n",
       "    .dataframe thead th {\n",
       "        text-align: right;\n",
       "    }\n",
       "</style>\n",
       "<table border=\"1\" class=\"dataframe\">\n",
       "  <thead>\n",
       "    <tr style=\"text-align: right;\">\n",
       "      <th></th>\n",
       "      <th>DAYS</th>\n",
       "      <th>TILTmean</th>\n",
       "      <th>DIFF</th>\n",
       "      <th>Module_temp_mean</th>\n",
       "      <th>Ambient_temp_mean</th>\n",
       "      <th>Irradiance</th>\n",
       "      <th>firstreading</th>\n",
       "      <th>lastreading</th>\n",
       "      <th>starttime</th>\n",
       "      <th>Endtime</th>\n",
       "      <th>Unnamed: 10</th>\n",
       "      <th>Installed.DC.capcity</th>\n",
       "      <th>HT.panel.export</th>\n",
       "      <th>PR</th>\n",
       "    </tr>\n",
       "  </thead>\n",
       "  <tbody>\n",
       "    <tr>\n",
       "      <td>0</td>\n",
       "      <td>1</td>\n",
       "      <td>541.384078</td>\n",
       "      <td>54.138408</td>\n",
       "      <td>48.764944</td>\n",
       "      <td>32.858939</td>\n",
       "      <td>6.460517</td>\n",
       "      <td>01-04-2019 06:14</td>\n",
       "      <td>01-04-2019 18:09</td>\n",
       "      <td>06:14:59</td>\n",
       "      <td>18:09:59</td>\n",
       "      <td>NaN</td>\n",
       "      <td>12070</td>\n",
       "      <td>60700</td>\n",
       "      <td>77.842033</td>\n",
       "    </tr>\n",
       "    <tr>\n",
       "      <td>1</td>\n",
       "      <td>2</td>\n",
       "      <td>554.748619</td>\n",
       "      <td>55.476105</td>\n",
       "      <td>48.742818</td>\n",
       "      <td>32.652901</td>\n",
       "      <td>6.693967</td>\n",
       "      <td>02-04-2019 06:14</td>\n",
       "      <td>02-04-2019 18:17</td>\n",
       "      <td>06:14:59</td>\n",
       "      <td>18:17:59</td>\n",
       "      <td>NaN</td>\n",
       "      <td>12070</td>\n",
       "      <td>65000</td>\n",
       "      <td>80.449350</td>\n",
       "    </tr>\n",
       "    <tr>\n",
       "      <td>2</td>\n",
       "      <td>3</td>\n",
       "      <td>533.075653</td>\n",
       "      <td>53.307565</td>\n",
       "      <td>48.102476</td>\n",
       "      <td>33.311967</td>\n",
       "      <td>6.459100</td>\n",
       "      <td>03-04-2019 06:15</td>\n",
       "      <td>03-04-2019 18:21</td>\n",
       "      <td>06:15:59</td>\n",
       "      <td>18:21:59</td>\n",
       "      <td>NaN</td>\n",
       "      <td>12070</td>\n",
       "      <td>63000</td>\n",
       "      <td>80.809286</td>\n",
       "    </tr>\n",
       "    <tr>\n",
       "      <td>3</td>\n",
       "      <td>4</td>\n",
       "      <td>562.319672</td>\n",
       "      <td>56.231967</td>\n",
       "      <td>47.429508</td>\n",
       "      <td>33.413525</td>\n",
       "      <td>6.860300</td>\n",
       "      <td>04-04-2019 06:13</td>\n",
       "      <td>04-04-2019 18:24</td>\n",
       "      <td>06:13:59</td>\n",
       "      <td>18:24:59</td>\n",
       "      <td>NaN</td>\n",
       "      <td>12070</td>\n",
       "      <td>67600</td>\n",
       "      <td>81.638745</td>\n",
       "    </tr>\n",
       "    <tr>\n",
       "      <td>4</td>\n",
       "      <td>5</td>\n",
       "      <td>570.166434</td>\n",
       "      <td>57.014126</td>\n",
       "      <td>48.263217</td>\n",
       "      <td>32.134545</td>\n",
       "      <td>6.794483</td>\n",
       "      <td>05-04-2019 06:13</td>\n",
       "      <td>05-04-2019 18:07</td>\n",
       "      <td>06:13:59</td>\n",
       "      <td>18:07:59</td>\n",
       "      <td>NaN</td>\n",
       "      <td>12070</td>\n",
       "      <td>66300</td>\n",
       "      <td>80.844377</td>\n",
       "    </tr>\n",
       "  </tbody>\n",
       "</table>\n",
       "</div>"
      ],
      "text/plain": [
       "   DAYS    TILTmean       DIFF  Module_temp_mean  Ambient_temp_mean  \\\n",
       "0     1  541.384078  54.138408         48.764944          32.858939   \n",
       "1     2  554.748619  55.476105         48.742818          32.652901   \n",
       "2     3  533.075653  53.307565         48.102476          33.311967   \n",
       "3     4  562.319672  56.231967         47.429508          33.413525   \n",
       "4     5  570.166434  57.014126         48.263217          32.134545   \n",
       "\n",
       "   Irradiance      firstreading       lastreading starttime   Endtime  \\\n",
       "0    6.460517  01-04-2019 06:14  01-04-2019 18:09  06:14:59  18:09:59   \n",
       "1    6.693967  02-04-2019 06:14  02-04-2019 18:17  06:14:59  18:17:59   \n",
       "2    6.459100  03-04-2019 06:15  03-04-2019 18:21  06:15:59  18:21:59   \n",
       "3    6.860300  04-04-2019 06:13  04-04-2019 18:24  06:13:59  18:24:59   \n",
       "4    6.794483  05-04-2019 06:13  05-04-2019 18:07  06:13:59  18:07:59   \n",
       "\n",
       "   Unnamed: 10  Installed.DC.capcity  HT.panel.export         PR  \n",
       "0          NaN                 12070            60700  77.842033  \n",
       "1          NaN                 12070            65000  80.449350  \n",
       "2          NaN                 12070            63000  80.809286  \n",
       "3          NaN                 12070            67600  81.638745  \n",
       "4          NaN                 12070            66300  80.844377  "
      ]
     },
     "execution_count": 3,
     "metadata": {},
     "output_type": "execute_result"
    }
   ],
   "source": [
    "data.head()"
   ]
  },
  {
   "cell_type": "markdown",
   "metadata": {},
   "source": [
    "## Here our aim is to predict PR for future projects by making the machine learn from this data"
   ]
  },
  {
   "cell_type": "code",
   "execution_count": 4,
   "metadata": {},
   "outputs": [
    {
     "data": {
      "text/html": [
       "<div>\n",
       "<style scoped>\n",
       "    .dataframe tbody tr th:only-of-type {\n",
       "        vertical-align: middle;\n",
       "    }\n",
       "\n",
       "    .dataframe tbody tr th {\n",
       "        vertical-align: top;\n",
       "    }\n",
       "\n",
       "    .dataframe thead th {\n",
       "        text-align: right;\n",
       "    }\n",
       "</style>\n",
       "<table border=\"1\" class=\"dataframe\">\n",
       "  <thead>\n",
       "    <tr style=\"text-align: right;\">\n",
       "      <th></th>\n",
       "      <th>Ambient_temp_mean</th>\n",
       "      <th>Irradiance</th>\n",
       "      <th>firstreading</th>\n",
       "      <th>lastreading</th>\n",
       "      <th>starttime</th>\n",
       "      <th>Endtime</th>\n",
       "      <th>Unnamed: 10</th>\n",
       "      <th>Installed.DC.capcity</th>\n",
       "      <th>HT.panel.export</th>\n",
       "      <th>PR</th>\n",
       "    </tr>\n",
       "  </thead>\n",
       "  <tbody>\n",
       "    <tr>\n",
       "      <td>0</td>\n",
       "      <td>32.858939</td>\n",
       "      <td>6.460517</td>\n",
       "      <td>01-04-2019 06:14</td>\n",
       "      <td>01-04-2019 18:09</td>\n",
       "      <td>06:14:59</td>\n",
       "      <td>18:09:59</td>\n",
       "      <td>NaN</td>\n",
       "      <td>12070</td>\n",
       "      <td>60700</td>\n",
       "      <td>77.842033</td>\n",
       "    </tr>\n",
       "    <tr>\n",
       "      <td>1</td>\n",
       "      <td>32.652901</td>\n",
       "      <td>6.693967</td>\n",
       "      <td>02-04-2019 06:14</td>\n",
       "      <td>02-04-2019 18:17</td>\n",
       "      <td>06:14:59</td>\n",
       "      <td>18:17:59</td>\n",
       "      <td>NaN</td>\n",
       "      <td>12070</td>\n",
       "      <td>65000</td>\n",
       "      <td>80.449350</td>\n",
       "    </tr>\n",
       "    <tr>\n",
       "      <td>2</td>\n",
       "      <td>33.311967</td>\n",
       "      <td>6.459100</td>\n",
       "      <td>03-04-2019 06:15</td>\n",
       "      <td>03-04-2019 18:21</td>\n",
       "      <td>06:15:59</td>\n",
       "      <td>18:21:59</td>\n",
       "      <td>NaN</td>\n",
       "      <td>12070</td>\n",
       "      <td>63000</td>\n",
       "      <td>80.809286</td>\n",
       "    </tr>\n",
       "    <tr>\n",
       "      <td>3</td>\n",
       "      <td>33.413525</td>\n",
       "      <td>6.860300</td>\n",
       "      <td>04-04-2019 06:13</td>\n",
       "      <td>04-04-2019 18:24</td>\n",
       "      <td>06:13:59</td>\n",
       "      <td>18:24:59</td>\n",
       "      <td>NaN</td>\n",
       "      <td>12070</td>\n",
       "      <td>67600</td>\n",
       "      <td>81.638745</td>\n",
       "    </tr>\n",
       "    <tr>\n",
       "      <td>4</td>\n",
       "      <td>32.134545</td>\n",
       "      <td>6.794483</td>\n",
       "      <td>05-04-2019 06:13</td>\n",
       "      <td>05-04-2019 18:07</td>\n",
       "      <td>06:13:59</td>\n",
       "      <td>18:07:59</td>\n",
       "      <td>NaN</td>\n",
       "      <td>12070</td>\n",
       "      <td>66300</td>\n",
       "      <td>80.844377</td>\n",
       "    </tr>\n",
       "    <tr>\n",
       "      <td>5</td>\n",
       "      <td>32.857787</td>\n",
       "      <td>6.991533</td>\n",
       "      <td>06-04-2019 06:11</td>\n",
       "      <td>06-04-2019 18:22</td>\n",
       "      <td>06:11:59</td>\n",
       "      <td>18:22:59</td>\n",
       "      <td>NaN</td>\n",
       "      <td>12070</td>\n",
       "      <td>66400</td>\n",
       "      <td>78.684353</td>\n",
       "    </tr>\n",
       "  </tbody>\n",
       "</table>\n",
       "</div>"
      ],
      "text/plain": [
       "   Ambient_temp_mean  Irradiance      firstreading       lastreading  \\\n",
       "0          32.858939    6.460517  01-04-2019 06:14  01-04-2019 18:09   \n",
       "1          32.652901    6.693967  02-04-2019 06:14  02-04-2019 18:17   \n",
       "2          33.311967    6.459100  03-04-2019 06:15  03-04-2019 18:21   \n",
       "3          33.413525    6.860300  04-04-2019 06:13  04-04-2019 18:24   \n",
       "4          32.134545    6.794483  05-04-2019 06:13  05-04-2019 18:07   \n",
       "5          32.857787    6.991533  06-04-2019 06:11  06-04-2019 18:22   \n",
       "\n",
       "  starttime   Endtime  Unnamed: 10  Installed.DC.capcity  HT.panel.export  \\\n",
       "0  06:14:59  18:09:59          NaN                 12070            60700   \n",
       "1  06:14:59  18:17:59          NaN                 12070            65000   \n",
       "2  06:15:59  18:21:59          NaN                 12070            63000   \n",
       "3  06:13:59  18:24:59          NaN                 12070            67600   \n",
       "4  06:13:59  18:07:59          NaN                 12070            66300   \n",
       "5  06:11:59  18:22:59          NaN                 12070            66400   \n",
       "\n",
       "          PR  \n",
       "0  77.842033  \n",
       "1  80.449350  \n",
       "2  80.809286  \n",
       "3  81.638745  \n",
       "4  80.844377  \n",
       "5  78.684353  "
      ]
     },
     "execution_count": 4,
     "metadata": {},
     "output_type": "execute_result"
    }
   ],
   "source": [
    "data.loc[:5,'Ambient_temp_mean':'PR']"
   ]
  },
  {
   "cell_type": "code",
   "execution_count": 5,
   "metadata": {
    "collapsed": true
   },
   "outputs": [
    {
     "data": {
      "text/plain": [
       "(30, 14)"
      ]
     },
     "execution_count": 5,
     "metadata": {},
     "output_type": "execute_result"
    }
   ],
   "source": [
    "data.shape"
   ]
  },
  {
   "cell_type": "code",
   "execution_count": 6,
   "metadata": {
    "collapsed": true
   },
   "outputs": [
    {
     "data": {
      "text/plain": [
       "30"
      ]
     },
     "execution_count": 6,
     "metadata": {},
     "output_type": "execute_result"
    }
   ],
   "source": [
    "len(data['DAYS'].value_counts().index)"
   ]
  },
  {
   "cell_type": "code",
   "execution_count": 7,
   "metadata": {},
   "outputs": [],
   "source": [
    "data.drop(['DAYS'],axis=1,inplace=True)"
   ]
  },
  {
   "cell_type": "code",
   "execution_count": 8,
   "metadata": {
    "collapsed": true
   },
   "outputs": [
    {
     "data": {
      "text/html": [
       "<div>\n",
       "<style scoped>\n",
       "    .dataframe tbody tr th:only-of-type {\n",
       "        vertical-align: middle;\n",
       "    }\n",
       "\n",
       "    .dataframe tbody tr th {\n",
       "        vertical-align: top;\n",
       "    }\n",
       "\n",
       "    .dataframe thead th {\n",
       "        text-align: right;\n",
       "    }\n",
       "</style>\n",
       "<table border=\"1\" class=\"dataframe\">\n",
       "  <thead>\n",
       "    <tr style=\"text-align: right;\">\n",
       "      <th></th>\n",
       "      <th>TILTmean</th>\n",
       "      <th>DIFF</th>\n",
       "      <th>Module_temp_mean</th>\n",
       "      <th>Ambient_temp_mean</th>\n",
       "      <th>Irradiance</th>\n",
       "      <th>firstreading</th>\n",
       "      <th>lastreading</th>\n",
       "      <th>starttime</th>\n",
       "      <th>Endtime</th>\n",
       "      <th>Unnamed: 10</th>\n",
       "      <th>Installed.DC.capcity</th>\n",
       "      <th>HT.panel.export</th>\n",
       "      <th>PR</th>\n",
       "    </tr>\n",
       "  </thead>\n",
       "  <tbody>\n",
       "    <tr>\n",
       "      <td>0</td>\n",
       "      <td>541.384078</td>\n",
       "      <td>54.138408</td>\n",
       "      <td>48.764944</td>\n",
       "      <td>32.858939</td>\n",
       "      <td>6.460517</td>\n",
       "      <td>01-04-2019 06:14</td>\n",
       "      <td>01-04-2019 18:09</td>\n",
       "      <td>06:14:59</td>\n",
       "      <td>18:09:59</td>\n",
       "      <td>NaN</td>\n",
       "      <td>12070</td>\n",
       "      <td>60700</td>\n",
       "      <td>77.842033</td>\n",
       "    </tr>\n",
       "    <tr>\n",
       "      <td>1</td>\n",
       "      <td>554.748619</td>\n",
       "      <td>55.476105</td>\n",
       "      <td>48.742818</td>\n",
       "      <td>32.652901</td>\n",
       "      <td>6.693967</td>\n",
       "      <td>02-04-2019 06:14</td>\n",
       "      <td>02-04-2019 18:17</td>\n",
       "      <td>06:14:59</td>\n",
       "      <td>18:17:59</td>\n",
       "      <td>NaN</td>\n",
       "      <td>12070</td>\n",
       "      <td>65000</td>\n",
       "      <td>80.449350</td>\n",
       "    </tr>\n",
       "    <tr>\n",
       "      <td>2</td>\n",
       "      <td>533.075653</td>\n",
       "      <td>53.307565</td>\n",
       "      <td>48.102476</td>\n",
       "      <td>33.311967</td>\n",
       "      <td>6.459100</td>\n",
       "      <td>03-04-2019 06:15</td>\n",
       "      <td>03-04-2019 18:21</td>\n",
       "      <td>06:15:59</td>\n",
       "      <td>18:21:59</td>\n",
       "      <td>NaN</td>\n",
       "      <td>12070</td>\n",
       "      <td>63000</td>\n",
       "      <td>80.809286</td>\n",
       "    </tr>\n",
       "    <tr>\n",
       "      <td>3</td>\n",
       "      <td>562.319672</td>\n",
       "      <td>56.231967</td>\n",
       "      <td>47.429508</td>\n",
       "      <td>33.413525</td>\n",
       "      <td>6.860300</td>\n",
       "      <td>04-04-2019 06:13</td>\n",
       "      <td>04-04-2019 18:24</td>\n",
       "      <td>06:13:59</td>\n",
       "      <td>18:24:59</td>\n",
       "      <td>NaN</td>\n",
       "      <td>12070</td>\n",
       "      <td>67600</td>\n",
       "      <td>81.638745</td>\n",
       "    </tr>\n",
       "    <tr>\n",
       "      <td>4</td>\n",
       "      <td>570.166434</td>\n",
       "      <td>57.014126</td>\n",
       "      <td>48.263217</td>\n",
       "      <td>32.134545</td>\n",
       "      <td>6.794483</td>\n",
       "      <td>05-04-2019 06:13</td>\n",
       "      <td>05-04-2019 18:07</td>\n",
       "      <td>06:13:59</td>\n",
       "      <td>18:07:59</td>\n",
       "      <td>NaN</td>\n",
       "      <td>12070</td>\n",
       "      <td>66300</td>\n",
       "      <td>80.844377</td>\n",
       "    </tr>\n",
       "  </tbody>\n",
       "</table>\n",
       "</div>"
      ],
      "text/plain": [
       "     TILTmean       DIFF  Module_temp_mean  Ambient_temp_mean  Irradiance  \\\n",
       "0  541.384078  54.138408         48.764944          32.858939    6.460517   \n",
       "1  554.748619  55.476105         48.742818          32.652901    6.693967   \n",
       "2  533.075653  53.307565         48.102476          33.311967    6.459100   \n",
       "3  562.319672  56.231967         47.429508          33.413525    6.860300   \n",
       "4  570.166434  57.014126         48.263217          32.134545    6.794483   \n",
       "\n",
       "       firstreading       lastreading starttime   Endtime  Unnamed: 10  \\\n",
       "0  01-04-2019 06:14  01-04-2019 18:09  06:14:59  18:09:59          NaN   \n",
       "1  02-04-2019 06:14  02-04-2019 18:17  06:14:59  18:17:59          NaN   \n",
       "2  03-04-2019 06:15  03-04-2019 18:21  06:15:59  18:21:59          NaN   \n",
       "3  04-04-2019 06:13  04-04-2019 18:24  06:13:59  18:24:59          NaN   \n",
       "4  05-04-2019 06:13  05-04-2019 18:07  06:13:59  18:07:59          NaN   \n",
       "\n",
       "   Installed.DC.capcity  HT.panel.export         PR  \n",
       "0                 12070            60700  77.842033  \n",
       "1                 12070            65000  80.449350  \n",
       "2                 12070            63000  80.809286  \n",
       "3                 12070            67600  81.638745  \n",
       "4                 12070            66300  80.844377  "
      ]
     },
     "execution_count": 8,
     "metadata": {},
     "output_type": "execute_result"
    }
   ],
   "source": [
    "data.head()"
   ]
  },
  {
   "cell_type": "markdown",
   "metadata": {},
   "source": [
    "# Cleaning Missing Data / Replacing"
   ]
  },
  {
   "cell_type": "code",
   "execution_count": 9,
   "metadata": {},
   "outputs": [
    {
     "data": {
      "text/plain": [
       "<matplotlib.axes._subplots.AxesSubplot at 0x1a74702d048>"
      ]
     },
     "execution_count": 9,
     "metadata": {},
     "output_type": "execute_result"
    },
    {
     "data": {
      "image/png": "[encoded data removed]",
      "text/plain": [
       "<Figure size 432x288 with 2 Axes>"
      ]
     },
     "metadata": {
      "needs_background": "light"
     },
     "output_type": "display_data"
    }
   ],
   "source": [
    "sns.heatmap(data.isnull())"
   ]
  },
  {
   "cell_type": "code",
   "execution_count": 10,
   "metadata": {},
   "outputs": [],
   "source": [
    "data.drop(['Unnamed: 10'],axis=1,inplace=True)"
   ]
  },
  {
   "cell_type": "code",
   "execution_count": 11,
   "metadata": {
    "collapsed": true
   },
   "outputs": [
    {
     "data": {
      "text/html": [
       "<div>\n",
       "<style scoped>\n",
       "    .dataframe tbody tr th:only-of-type {\n",
       "        vertical-align: middle;\n",
       "    }\n",
       "\n",
       "    .dataframe tbody tr th {\n",
       "        vertical-align: top;\n",
       "    }\n",
       "\n",
       "    .dataframe thead th {\n",
       "        text-align: right;\n",
       "    }\n",
       "</style>\n",
       "<table border=\"1\" class=\"dataframe\">\n",
       "  <thead>\n",
       "    <tr style=\"text-align: right;\">\n",
       "      <th></th>\n",
       "      <th>TILTmean</th>\n",
       "      <th>DIFF</th>\n",
       "      <th>Module_temp_mean</th>\n",
       "      <th>Ambient_temp_mean</th>\n",
       "      <th>Irradiance</th>\n",
       "      <th>firstreading</th>\n",
       "      <th>lastreading</th>\n",
       "      <th>starttime</th>\n",
       "      <th>Endtime</th>\n",
       "      <th>Installed.DC.capcity</th>\n",
       "      <th>HT.panel.export</th>\n",
       "      <th>PR</th>\n",
       "    </tr>\n",
       "  </thead>\n",
       "  <tbody>\n",
       "    <tr>\n",
       "      <td>0</td>\n",
       "      <td>541.384078</td>\n",
       "      <td>54.138408</td>\n",
       "      <td>48.764944</td>\n",
       "      <td>32.858939</td>\n",
       "      <td>6.460517</td>\n",
       "      <td>01-04-2019 06:14</td>\n",
       "      <td>01-04-2019 18:09</td>\n",
       "      <td>06:14:59</td>\n",
       "      <td>18:09:59</td>\n",
       "      <td>12070</td>\n",
       "      <td>60700</td>\n",
       "      <td>77.842033</td>\n",
       "    </tr>\n",
       "    <tr>\n",
       "      <td>1</td>\n",
       "      <td>554.748619</td>\n",
       "      <td>55.476105</td>\n",
       "      <td>48.742818</td>\n",
       "      <td>32.652901</td>\n",
       "      <td>6.693967</td>\n",
       "      <td>02-04-2019 06:14</td>\n",
       "      <td>02-04-2019 18:17</td>\n",
       "      <td>06:14:59</td>\n",
       "      <td>18:17:59</td>\n",
       "      <td>12070</td>\n",
       "      <td>65000</td>\n",
       "      <td>80.449350</td>\n",
       "    </tr>\n",
       "    <tr>\n",
       "      <td>2</td>\n",
       "      <td>533.075653</td>\n",
       "      <td>53.307565</td>\n",
       "      <td>48.102476</td>\n",
       "      <td>33.311967</td>\n",
       "      <td>6.459100</td>\n",
       "      <td>03-04-2019 06:15</td>\n",
       "      <td>03-04-2019 18:21</td>\n",
       "      <td>06:15:59</td>\n",
       "      <td>18:21:59</td>\n",
       "      <td>12070</td>\n",
       "      <td>63000</td>\n",
       "      <td>80.809286</td>\n",
       "    </tr>\n",
       "    <tr>\n",
       "      <td>3</td>\n",
       "      <td>562.319672</td>\n",
       "      <td>56.231967</td>\n",
       "      <td>47.429508</td>\n",
       "      <td>33.413525</td>\n",
       "      <td>6.860300</td>\n",
       "      <td>04-04-2019 06:13</td>\n",
       "      <td>04-04-2019 18:24</td>\n",
       "      <td>06:13:59</td>\n",
       "      <td>18:24:59</td>\n",
       "      <td>12070</td>\n",
       "      <td>67600</td>\n",
       "      <td>81.638745</td>\n",
       "    </tr>\n",
       "    <tr>\n",
       "      <td>4</td>\n",
       "      <td>570.166434</td>\n",
       "      <td>57.014126</td>\n",
       "      <td>48.263217</td>\n",
       "      <td>32.134545</td>\n",
       "      <td>6.794483</td>\n",
       "      <td>05-04-2019 06:13</td>\n",
       "      <td>05-04-2019 18:07</td>\n",
       "      <td>06:13:59</td>\n",
       "      <td>18:07:59</td>\n",
       "      <td>12070</td>\n",
       "      <td>66300</td>\n",
       "      <td>80.844377</td>\n",
       "    </tr>\n",
       "  </tbody>\n",
       "</table>\n",
       "</div>"
      ],
      "text/plain": [
       "     TILTmean       DIFF  Module_temp_mean  Ambient_temp_mean  Irradiance  \\\n",
       "0  541.384078  54.138408         48.764944          32.858939    6.460517   \n",
       "1  554.748619  55.476105         48.742818          32.652901    6.693967   \n",
       "2  533.075653  53.307565         48.102476          33.311967    6.459100   \n",
       "3  562.319672  56.231967         47.429508          33.413525    6.860300   \n",
       "4  570.166434  57.014126         48.263217          32.134545    6.794483   \n",
       "\n",
       "       firstreading       lastreading starttime   Endtime  \\\n",
       "0  01-04-2019 06:14  01-04-2019 18:09  06:14:59  18:09:59   \n",
       "1  02-04-2019 06:14  02-04-2019 18:17  06:14:59  18:17:59   \n",
       "2  03-04-2019 06:15  03-04-2019 18:21  06:15:59  18:21:59   \n",
       "3  04-04-2019 06:13  04-04-2019 18:24  06:13:59  18:24:59   \n",
       "4  05-04-2019 06:13  05-04-2019 18:07  06:13:59  18:07:59   \n",
       "\n",
       "   Installed.DC.capcity  HT.panel.export         PR  \n",
       "0                 12070            60700  77.842033  \n",
       "1                 12070            65000  80.449350  \n",
       "2                 12070            63000  80.809286  \n",
       "3                 12070            67600  81.638745  \n",
       "4                 12070            66300  80.844377  "
      ]
     },
     "execution_count": 11,
     "metadata": {},
     "output_type": "execute_result"
    }
   ],
   "source": [
    "data.head()"
   ]
  },
  {
   "cell_type": "code",
   "execution_count": 12,
   "metadata": {},
   "outputs": [],
   "source": [
    "data.drop(['firstreading','lastreading'],axis=1,inplace=True)"
   ]
  },
  {
   "cell_type": "code",
   "execution_count": 13,
   "metadata": {},
   "outputs": [
    {
     "data": {
      "text/html": [
       "<div>\n",
       "<style scoped>\n",
       "    .dataframe tbody tr th:only-of-type {\n",
       "        vertical-align: middle;\n",
       "    }\n",
       "\n",
       "    .dataframe tbody tr th {\n",
       "        vertical-align: top;\n",
       "    }\n",
       "\n",
       "    .dataframe thead th {\n",
       "        text-align: right;\n",
       "    }\n",
       "</style>\n",
       "<table border=\"1\" class=\"dataframe\">\n",
       "  <thead>\n",
       "    <tr style=\"text-align: right;\">\n",
       "      <th></th>\n",
       "      <th>TILTmean</th>\n",
       "      <th>DIFF</th>\n",
       "      <th>Module_temp_mean</th>\n",
       "      <th>Ambient_temp_mean</th>\n",
       "      <th>Irradiance</th>\n",
       "      <th>starttime</th>\n",
       "      <th>Endtime</th>\n",
       "      <th>Installed.DC.capcity</th>\n",
       "      <th>HT.panel.export</th>\n",
       "      <th>PR</th>\n",
       "    </tr>\n",
       "  </thead>\n",
       "  <tbody>\n",
       "    <tr>\n",
       "      <td>0</td>\n",
       "      <td>541.384078</td>\n",
       "      <td>54.138408</td>\n",
       "      <td>48.764944</td>\n",
       "      <td>32.858939</td>\n",
       "      <td>6.460517</td>\n",
       "      <td>06:14:59</td>\n",
       "      <td>18:09:59</td>\n",
       "      <td>12070</td>\n",
       "      <td>60700</td>\n",
       "      <td>77.842033</td>\n",
       "    </tr>\n",
       "    <tr>\n",
       "      <td>1</td>\n",
       "      <td>554.748619</td>\n",
       "      <td>55.476105</td>\n",
       "      <td>48.742818</td>\n",
       "      <td>32.652901</td>\n",
       "      <td>6.693967</td>\n",
       "      <td>06:14:59</td>\n",
       "      <td>18:17:59</td>\n",
       "      <td>12070</td>\n",
       "      <td>65000</td>\n",
       "      <td>80.449350</td>\n",
       "    </tr>\n",
       "    <tr>\n",
       "      <td>2</td>\n",
       "      <td>533.075653</td>\n",
       "      <td>53.307565</td>\n",
       "      <td>48.102476</td>\n",
       "      <td>33.311967</td>\n",
       "      <td>6.459100</td>\n",
       "      <td>06:15:59</td>\n",
       "      <td>18:21:59</td>\n",
       "      <td>12070</td>\n",
       "      <td>63000</td>\n",
       "      <td>80.809286</td>\n",
       "    </tr>\n",
       "    <tr>\n",
       "      <td>3</td>\n",
       "      <td>562.319672</td>\n",
       "      <td>56.231967</td>\n",
       "      <td>47.429508</td>\n",
       "      <td>33.413525</td>\n",
       "      <td>6.860300</td>\n",
       "      <td>06:13:59</td>\n",
       "      <td>18:24:59</td>\n",
       "      <td>12070</td>\n",
       "      <td>67600</td>\n",
       "      <td>81.638745</td>\n",
       "    </tr>\n",
       "    <tr>\n",
       "      <td>4</td>\n",
       "      <td>570.166434</td>\n",
       "      <td>57.014126</td>\n",
       "      <td>48.263217</td>\n",
       "      <td>32.134545</td>\n",
       "      <td>6.794483</td>\n",
       "      <td>06:13:59</td>\n",
       "      <td>18:07:59</td>\n",
       "      <td>12070</td>\n",
       "      <td>66300</td>\n",
       "      <td>80.844377</td>\n",
       "    </tr>\n",
       "  </tbody>\n",
       "</table>\n",
       "</div>"
      ],
      "text/plain": [
       "     TILTmean       DIFF  Module_temp_mean  Ambient_temp_mean  Irradiance  \\\n",
       "0  541.384078  54.138408         48.764944          32.858939    6.460517   \n",
       "1  554.748619  55.476105         48.742818          32.652901    6.693967   \n",
       "2  533.075653  53.307565         48.102476          33.311967    6.459100   \n",
       "3  562.319672  56.231967         47.429508          33.413525    6.860300   \n",
       "4  570.166434  57.014126         48.263217          32.134545    6.794483   \n",
       "\n",
       "  starttime   Endtime  Installed.DC.capcity  HT.panel.export         PR  \n",
       "0  06:14:59  18:09:59                 12070            60700  77.842033  \n",
       "1  06:14:59  18:17:59                 12070            65000  80.449350  \n",
       "2  06:15:59  18:21:59                 12070            63000  80.809286  \n",
       "3  06:13:59  18:24:59                 12070            67600  81.638745  \n",
       "4  06:13:59  18:07:59                 12070            66300  80.844377  "
      ]
     },
     "execution_count": 13,
     "metadata": {},
     "output_type": "execute_result"
    }
   ],
   "source": [
    "data.head()"
   ]
  },
  {
   "cell_type": "code",
   "execution_count": 14,
   "metadata": {
    "collapsed": true
   },
   "outputs": [
    {
     "data": {
      "text/plain": [
       "0     06:14:59\n",
       "1     06:14:59\n",
       "2     06:15:59\n",
       "3     06:13:59\n",
       "4     06:13:59\n",
       "5     06:11:59\n",
       "6     06:13:59\n",
       "7     06:09:59\n",
       "8     06:09:59\n",
       "9     06:07:59\n",
       "10    06:06:59\n",
       "11    06:05:59\n",
       "12    06:06:59\n",
       "13    06:05:59\n",
       "14    06:04:59\n",
       "15    06:03:59\n",
       "16    06:01:59\n",
       "17    06:01:59\n",
       "18    05:58:59\n",
       "19    05:59:59\n",
       "20    06:06:59\n",
       "21    06:01:59\n",
       "22    05:55:59\n",
       "23    05:53:59\n",
       "24    05:59:59\n",
       "25    05:59:59\n",
       "26    06:00:59\n",
       "27    06:00:59\n",
       "28    05:48:59\n",
       "29    05:58:59\n",
       "Name: starttime, dtype: object"
      ]
     },
     "execution_count": 14,
     "metadata": {},
     "output_type": "execute_result"
    }
   ],
   "source": [
    "data['starttime']"
   ]
  },
  {
   "cell_type": "code",
   "execution_count": 15,
   "metadata": {
    "collapsed": true
   },
   "outputs": [
    {
     "data": {
      "text/plain": [
       "0     18:09:59\n",
       "1     18:17:59\n",
       "2     18:21:59\n",
       "3     18:24:59\n",
       "4     18:07:59\n",
       "5     18:22:59\n",
       "6     18:15:59\n",
       "7     18:18:59\n",
       "8     18:18:59\n",
       "9     18:22:59\n",
       "10    18:16:59\n",
       "11    18:21:59\n",
       "12    18:22:59\n",
       "13    18:24:59\n",
       "14    18:23:59\n",
       "15    18:21:59\n",
       "16    18:38:59\n",
       "17    18:35:59\n",
       "18    18:28:59\n",
       "19    18:26:59\n",
       "20    18:25:59\n",
       "21    18:29:59\n",
       "22    18:20:59\n",
       "23    18:28:59\n",
       "24    18:27:59\n",
       "25    18:26:59\n",
       "26    18:27:59\n",
       "27    18:23:59\n",
       "28    18:25:59\n",
       "29    18:25:59\n",
       "Name: Endtime, dtype: object"
      ]
     },
     "execution_count": 15,
     "metadata": {},
     "output_type": "execute_result"
    }
   ],
   "source": [
    "data['Endtime']"
   ]
  },
  {
   "cell_type": "code",
   "execution_count": 16,
   "metadata": {},
   "outputs": [],
   "source": [
    "def get_hour(col):\n",
    "    return col.split(':')[0]\n",
    "\n",
    "def get_min(col):\n",
    "    return col.split(':')[1]"
   ]
  },
  {
   "cell_type": "code",
   "execution_count": 17,
   "metadata": {},
   "outputs": [],
   "source": [
    "data['start_hour'] = data['starttime'].apply(get_hour)"
   ]
  },
  {
   "cell_type": "code",
   "execution_count": 18,
   "metadata": {},
   "outputs": [],
   "source": [
    "data['start_min'] = data['starttime'].apply(get_min)"
   ]
  },
  {
   "cell_type": "code",
   "execution_count": 19,
   "metadata": {},
   "outputs": [],
   "source": [
    "data['end_hour'] = data['Endtime'].apply(get_hour)"
   ]
  },
  {
   "cell_type": "code",
   "execution_count": 20,
   "metadata": {},
   "outputs": [],
   "source": [
    "data['end_min'] = data['Endtime'].apply(get_min)"
   ]
  },
  {
   "cell_type": "code",
   "execution_count": 21,
   "metadata": {},
   "outputs": [],
   "source": [
    "data.drop(['starttime','Endtime'],axis=1,inplace=True)"
   ]
  },
  {
   "cell_type": "code",
   "execution_count": 22,
   "metadata": {},
   "outputs": [
    {
     "data": {
      "text/html": [
       "<div>\n",
       "<style scoped>\n",
       "    .dataframe tbody tr th:only-of-type {\n",
       "        vertical-align: middle;\n",
       "    }\n",
       "\n",
       "    .dataframe tbody tr th {\n",
       "        vertical-align: top;\n",
       "    }\n",
       "\n",
       "    .dataframe thead th {\n",
       "        text-align: right;\n",
       "    }\n",
       "</style>\n",
       "<table border=\"1\" class=\"dataframe\">\n",
       "  <thead>\n",
       "    <tr style=\"text-align: right;\">\n",
       "      <th></th>\n",
       "      <th>TILTmean</th>\n",
       "      <th>DIFF</th>\n",
       "      <th>Module_temp_mean</th>\n",
       "      <th>Ambient_temp_mean</th>\n",
       "      <th>Irradiance</th>\n",
       "      <th>Installed.DC.capcity</th>\n",
       "      <th>HT.panel.export</th>\n",
       "      <th>PR</th>\n",
       "      <th>start_hour</th>\n",
       "      <th>start_min</th>\n",
       "      <th>end_hour</th>\n",
       "      <th>end_min</th>\n",
       "    </tr>\n",
       "  </thead>\n",
       "  <tbody>\n",
       "    <tr>\n",
       "      <td>0</td>\n",
       "      <td>541.384078</td>\n",
       "      <td>54.138408</td>\n",
       "      <td>48.764944</td>\n",
       "      <td>32.858939</td>\n",
       "      <td>6.460517</td>\n",
       "      <td>12070</td>\n",
       "      <td>60700</td>\n",
       "      <td>77.842033</td>\n",
       "      <td>06</td>\n",
       "      <td>14</td>\n",
       "      <td>18</td>\n",
       "      <td>09</td>\n",
       "    </tr>\n",
       "    <tr>\n",
       "      <td>1</td>\n",
       "      <td>554.748619</td>\n",
       "      <td>55.476105</td>\n",
       "      <td>48.742818</td>\n",
       "      <td>32.652901</td>\n",
       "      <td>6.693967</td>\n",
       "      <td>12070</td>\n",
       "      <td>65000</td>\n",
       "      <td>80.449350</td>\n",
       "      <td>06</td>\n",
       "      <td>14</td>\n",
       "      <td>18</td>\n",
       "      <td>17</td>\n",
       "    </tr>\n",
       "    <tr>\n",
       "      <td>2</td>\n",
       "      <td>533.075653</td>\n",
       "      <td>53.307565</td>\n",
       "      <td>48.102476</td>\n",
       "      <td>33.311967</td>\n",
       "      <td>6.459100</td>\n",
       "      <td>12070</td>\n",
       "      <td>63000</td>\n",
       "      <td>80.809286</td>\n",
       "      <td>06</td>\n",
       "      <td>15</td>\n",
       "      <td>18</td>\n",
       "      <td>21</td>\n",
       "    </tr>\n",
       "    <tr>\n",
       "      <td>3</td>\n",
       "      <td>562.319672</td>\n",
       "      <td>56.231967</td>\n",
       "      <td>47.429508</td>\n",
       "      <td>33.413525</td>\n",
       "      <td>6.860300</td>\n",
       "      <td>12070</td>\n",
       "      <td>67600</td>\n",
       "      <td>81.638745</td>\n",
       "      <td>06</td>\n",
       "      <td>13</td>\n",
       "      <td>18</td>\n",
       "      <td>24</td>\n",
       "    </tr>\n",
       "    <tr>\n",
       "      <td>4</td>\n",
       "      <td>570.166434</td>\n",
       "      <td>57.014126</td>\n",
       "      <td>48.263217</td>\n",
       "      <td>32.134545</td>\n",
       "      <td>6.794483</td>\n",
       "      <td>12070</td>\n",
       "      <td>66300</td>\n",
       "      <td>80.844377</td>\n",
       "      <td>06</td>\n",
       "      <td>13</td>\n",
       "      <td>18</td>\n",
       "      <td>07</td>\n",
       "    </tr>\n",
       "  </tbody>\n",
       "</table>\n",
       "</div>"
      ],
      "text/plain": [
       "     TILTmean       DIFF  Module_temp_mean  Ambient_temp_mean  Irradiance  \\\n",
       "0  541.384078  54.138408         48.764944          32.858939    6.460517   \n",
       "1  554.748619  55.476105         48.742818          32.652901    6.693967   \n",
       "2  533.075653  53.307565         48.102476          33.311967    6.459100   \n",
       "3  562.319672  56.231967         47.429508          33.413525    6.860300   \n",
       "4  570.166434  57.014126         48.263217          32.134545    6.794483   \n",
       "\n",
       "   Installed.DC.capcity  HT.panel.export         PR start_hour start_min  \\\n",
       "0                 12070            60700  77.842033         06        14   \n",
       "1                 12070            65000  80.449350         06        14   \n",
       "2                 12070            63000  80.809286         06        15   \n",
       "3                 12070            67600  81.638745         06        13   \n",
       "4                 12070            66300  80.844377         06        13   \n",
       "\n",
       "  end_hour end_min  \n",
       "0       18      09  \n",
       "1       18      17  \n",
       "2       18      21  \n",
       "3       18      24  \n",
       "4       18      07  "
      ]
     },
     "execution_count": 22,
     "metadata": {},
     "output_type": "execute_result"
    }
   ],
   "source": [
    "data.head()"
   ]
  },
  {
   "cell_type": "markdown",
   "metadata": {},
   "source": [
    "# Minimum Required Data"
   ]
  },
  {
   "cell_type": "code",
   "execution_count": 23,
   "metadata": {},
   "outputs": [
    {
     "data": {
      "text/plain": [
       "TILTmean                float64\n",
       "DIFF                    float64\n",
       "Module_temp_mean        float64\n",
       "Ambient_temp_mean       float64\n",
       "Irradiance              float64\n",
       "Installed.DC.capcity      int64\n",
       "HT.panel.export           int64\n",
       "PR                      float64\n",
       "start_hour               object\n",
       "start_min                object\n",
       "end_hour                 object\n",
       "end_min                  object\n",
       "dtype: object"
      ]
     },
     "execution_count": 23,
     "metadata": {},
     "output_type": "execute_result"
    }
   ],
   "source": [
    "data.dtypes"
   ]
  },
  {
   "cell_type": "code",
   "execution_count": 29,
   "metadata": {},
   "outputs": [],
   "source": [
    "data['start_hour'] = pd.to_numeric(data['start_hour'])\n",
    "data['start_min'] = pd.to_numeric(data['start_min'])\n",
    "data['end_hour'] = pd.to_numeric(data['end_hour'])\n",
    "data['end_min'] = pd.to_numeric(data['end_min'])"
   ]
  },
  {
   "cell_type": "code",
   "execution_count": 30,
   "metadata": {
    "collapsed": true
   },
   "outputs": [
    {
     "data": {
      "text/plain": [
       "TILTmean                float64\n",
       "DIFF                    float64\n",
       "Module_temp_mean        float64\n",
       "Ambient_temp_mean       float64\n",
       "Irradiance              float64\n",
       "Installed.DC.capcity      int64\n",
       "HT.panel.export           int64\n",
       "PR                      float64\n",
       "start_hour                int64\n",
       "start_min                 int64\n",
       "end_hour                  int64\n",
       "end_min                   int64\n",
       "dtype: object"
      ]
     },
     "execution_count": 30,
     "metadata": {},
     "output_type": "execute_result"
    }
   ],
   "source": [
    "data.dtypes"
   ]
  },
  {
   "cell_type": "markdown",
   "metadata": {},
   "source": [
    "# Heatmap for finding the correlation between different features"
   ]
  },
  {
   "cell_type": "markdown",
   "metadata": {},
   "source": [
    "## Lighter shades mean high positive correlation between different features of a power plant. Darker shades mean high negative correlation. Pink color hues mean no mathematical correlation, but practically might or might not be correlated based on the business"
   ]
  },
  {
   "cell_type": "code",
   "execution_count": 31,
   "metadata": {},
   "outputs": [
    {
     "data": {
      "text/plain": [
       "<matplotlib.axes._subplots.AxesSubplot at 0x1a74a60ef88>"
      ]
     },
     "execution_count": 31,
     "metadata": {},
     "output_type": "execute_result"
    },
    {
     "data": {
      "image/png": "[encoded data removed]",
      "text/plain": [
       "<Figure size 432x288 with 2 Axes>"
      ]
     },
     "metadata": {
      "needs_background": "light"
     },
     "output_type": "display_data"
    }
   ],
   "source": [
    "sns.heatmap(data.corr())"
   ]
  },
  {
   "cell_type": "markdown",
   "metadata": {},
   "source": [
    "# Performance Ratio Relationship visualization"
   ]
  },
  {
   "cell_type": "code",
   "execution_count": 32,
   "metadata": {},
   "outputs": [
    {
     "data": {
      "text/plain": [
       "<seaborn.axisgrid.FacetGrid at 0x1a749b31ac8>"
      ]
     },
     "execution_count": 32,
     "metadata": {},
     "output_type": "execute_result"
    },
    {
     "data": {
      "image/png": "[encoded data removed]",
      "text/plain": [
       "<Figure size 360x360 with 1 Axes>"
      ]
     },
     "metadata": {
      "needs_background": "light"
     },
     "output_type": "display_data"
    }
   ],
   "source": [
    "sns.lmplot(x='PR',y='Installed.DC.capcity',data=data)"
   ]
  },
  {
   "cell_type": "code",
   "execution_count": 33,
   "metadata": {},
   "outputs": [
    {
     "data": {
      "text/plain": [
       "<seaborn.axisgrid.FacetGrid at 0x1a749d18508>"
      ]
     },
     "execution_count": 33,
     "metadata": {},
     "output_type": "execute_result"
    },
    {
     "data": {
      "image/png": "[encoded data removed]",
      "text/plain": [
       "<Figure size 360x360 with 1 Axes>"
      ]
     },
     "metadata": {
      "needs_background": "light"
     },
     "output_type": "display_data"
    }
   ],
   "source": [
    "sns.lmplot(x='PR',y='Irradiance',data=data)"
   ]
  },
  {
   "cell_type": "code",
   "execution_count": 34,
   "metadata": {},
   "outputs": [
    {
     "data": {
      "text/plain": [
       "<seaborn.axisgrid.FacetGrid at 0x1a749e613c8>"
      ]
     },
     "execution_count": 34,
     "metadata": {},
     "output_type": "execute_result"
    },
    {
     "data": {
      "image/png": "[encoded data removed]",
      "text/plain": [
       "<Figure size 360x360 with 1 Axes>"
      ]
     },
     "metadata": {
      "needs_background": "light"
     },
     "output_type": "display_data"
    }
   ],
   "source": [
    "sns.lmplot(x='PR',y='Module_temp_mean',data=data)"
   ]
  },
  {
   "cell_type": "markdown",
   "metadata": {},
   "source": [
    "# Machine Learning Steps"
   ]
  },
  {
   "cell_type": "code",
   "execution_count": 35,
   "metadata": {},
   "outputs": [],
   "source": [
    "from sklearn.model_selection import train_test_split"
   ]
  },
  {
   "cell_type": "code",
   "execution_count": 36,
   "metadata": {},
   "outputs": [],
   "source": [
    "X = data.drop(['PR'],axis=1)\n",
    "y = data['PR']"
   ]
  },
  {
   "cell_type": "code",
   "execution_count": 37,
   "metadata": {},
   "outputs": [],
   "source": [
    "X_train,X_test,y_train,y_test = train_test_split(X,y,test_size=0.2,random_state=100)"
   ]
  },
  {
   "cell_type": "markdown",
   "metadata": {},
   "source": [
    "### Model1"
   ]
  },
  {
   "cell_type": "code",
   "execution_count": 38,
   "metadata": {},
   "outputs": [],
   "source": [
    "from sklearn.ensemble import RandomForestRegressor"
   ]
  },
  {
   "cell_type": "code",
   "execution_count": 39,
   "metadata": {},
   "outputs": [],
   "source": [
    "rf = RandomForestRegressor()"
   ]
  },
  {
   "cell_type": "code",
   "execution_count": 40,
   "metadata": {
    "collapsed": true
   },
   "outputs": [
    {
     "name": "stderr",
     "output_type": "stream",
     "text": [
      "C:\\Users\\ganes\\Anaconda3\\lib\\site-packages\\sklearn\\ensemble\\forest.py:245: FutureWarning: The default value of n_estimators will change from 10 in version 0.20 to 100 in 0.22.\n",
      "  \"10 in version 0.20 to 100 in 0.22.\", FutureWarning)\n"
     ]
    },
    {
     "data": {
      "text/plain": [
       "RandomForestRegressor(bootstrap=True, criterion='mse', max_depth=None,\n",
       "                      max_features='auto', max_leaf_nodes=None,\n",
       "                      min_impurity_decrease=0.0, min_impurity_split=None,\n",
       "                      min_samples_leaf=1, min_samples_split=2,\n",
       "                      min_weight_fraction_leaf=0.0, n_estimators=10,\n",
       "                      n_jobs=None, oob_score=False, random_state=None,\n",
       "                      verbose=0, warm_start=False)"
      ]
     },
     "execution_count": 40,
     "metadata": {},
     "output_type": "execute_result"
    }
   ],
   "source": [
    "rf.fit(X_train,y_train)"
   ]
  },
  {
   "cell_type": "code",
   "execution_count": 41,
   "metadata": {},
   "outputs": [],
   "source": [
    "pred1 = rf.predict(X_test)"
   ]
  },
  {
   "cell_type": "code",
   "execution_count": 42,
   "metadata": {},
   "outputs": [],
   "source": [
    "from sklearn.metrics import mean_absolute_error as mae"
   ]
  },
  {
   "cell_type": "markdown",
   "metadata": {},
   "source": [
    "### Model2"
   ]
  },
  {
   "cell_type": "code",
   "execution_count": 43,
   "metadata": {},
   "outputs": [],
   "source": [
    "from xgboost import XGBRegressor"
   ]
  },
  {
   "cell_type": "code",
   "execution_count": 44,
   "metadata": {},
   "outputs": [],
   "source": [
    "xg = XGBRegressor()"
   ]
  },
  {
   "cell_type": "code",
   "execution_count": 45,
   "metadata": {
    "collapsed": true
   },
   "outputs": [
    {
     "name": "stderr",
     "output_type": "stream",
     "text": [
      "C:\\Users\\ganes\\Anaconda3\\lib\\site-packages\\xgboost\\core.py:587: FutureWarning: Series.base is deprecated and will be removed in a future version\n",
      "  if getattr(data, 'base', None) is not None and \\\n"
     ]
    },
    {
     "name": "stdout",
     "output_type": "stream",
     "text": [
      "[21:46:48] WARNING: C:/Jenkins/workspace/xgboost-win64_release_0.90/src/objective/regression_obj.cu:152: reg:linear is now deprecated in favor of reg:squarederror.\n"
     ]
    },
    {
     "data": {
      "text/plain": [
       "XGBRegressor(base_score=0.5, booster='gbtree', colsample_bylevel=1,\n",
       "             colsample_bynode=1, colsample_bytree=1, gamma=0,\n",
       "             importance_type='gain', learning_rate=0.1, max_delta_step=0,\n",
       "             max_depth=3, min_child_weight=1, missing=None, n_estimators=100,\n",
       "             n_jobs=1, nthread=None, objective='reg:linear', random_state=0,\n",
       "             reg_alpha=0, reg_lambda=1, scale_pos_weight=1, seed=None,\n",
       "             silent=None, subsample=1, verbosity=1)"
      ]
     },
     "execution_count": 45,
     "metadata": {},
     "output_type": "execute_result"
    }
   ],
   "source": [
    "xg.fit(X_train,y_train)"
   ]
  },
  {
   "cell_type": "code",
   "execution_count": 46,
   "metadata": {},
   "outputs": [],
   "source": [
    "pred2 = xg.predict(X_test)"
   ]
  },
  {
   "cell_type": "markdown",
   "metadata": {},
   "source": [
    "# Result"
   ]
  },
  {
   "cell_type": "markdown",
   "metadata": {},
   "source": [
    "## Result of model 1"
   ]
  },
  {
   "cell_type": "code",
   "execution_count": 47,
   "metadata": {},
   "outputs": [
    {
     "name": "stdout",
     "output_type": "stream",
     "text": [
      "1.1877005103333336\n"
     ]
    }
   ],
   "source": [
    "print(mae(y_test,pred1))"
   ]
  },
  {
   "cell_type": "markdown",
   "metadata": {},
   "source": [
    "## Result of model 2"
   ]
  },
  {
   "cell_type": "code",
   "execution_count": 48,
   "metadata": {},
   "outputs": [
    {
     "name": "stdout",
     "output_type": "stream",
     "text": [
      "1.5999943147102869\n"
     ]
    }
   ],
   "source": [
    "print(mae(y_test,pred2))"
   ]
  },
  {
   "cell_type": "markdown",
   "metadata": {},
   "source": [
    "# This means that the predicted PR for a new data will have a minimum error of plus or minus 1.1877% based on what the computer has learned from the data that I used in this project"
   ]
  },
  {
   "cell_type": "markdown",
   "metadata": {},
   "source": [
    "# Machine Learning can also be used to predict energy generation, losses, capacity, financial benefits of projects, predict energy costs in upcoming years, optimize company's performance, automatically manage projects, help make investment decisions based on location of the project, capacity, irradiance, logistics, tariffs, client and so on"
   ]
  },
  {
   "cell_type": "markdown",
   "metadata": {},
   "source": [
    "# Thank You"
   ]
  }
 ],
 "metadata": {
  "kernelspec": {
   "display_name": "Python 3",
   "language": "python",
   "name": "python3"
  },
  "language_info": {
   "codemirror_mode": {
    "name": "ipython",
    "version": 3
   },
   "file_extension": ".py",
   "mimetype": "text/x-python",
   "name": "python",
   "nbconvert_exporter": "python",
   "pygments_lexer": "ipython3",
   "version": "3.7.4"
  }
 },
 "nbformat": 4,
 "nbformat_minor": 2
}
