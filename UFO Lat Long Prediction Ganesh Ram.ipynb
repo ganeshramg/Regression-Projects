{
 "cells": [
  {
   "cell_type": "markdown",
   "metadata": {},
   "source": [
    "# UFO Lat Long prediction using separate models in Python - Ganesh Ram"
   ]
  },
  {
   "cell_type": "markdown",
   "metadata": {},
   "source": [
    "## Data and Package import, and Cleaning"
   ]
  },
  {
   "cell_type": "code",
   "execution_count": 1,
   "metadata": {},
   "outputs": [],
   "source": [
    "import pandas as pd\n",
    "import numpy as np\n",
    "import seaborn as sns\n",
    "import matplotlib.pyplot as plt"
   ]
  },
  {
   "cell_type": "code",
   "execution_count": 2,
   "metadata": {},
   "outputs": [],
   "source": [
    "data = pd.read_csv('scrubbed.csv', engine = 'python')"
   ]
  },
  {
   "cell_type": "code",
   "execution_count": 3,
   "metadata": {
    "scrolled": true
   },
   "outputs": [
    {
     "data": {
      "text/html": [
       "<div>\n",
       "<style scoped>\n",
       "    .dataframe tbody tr th:only-of-type {\n",
       "        vertical-align: middle;\n",
       "    }\n",
       "\n",
       "    .dataframe tbody tr th {\n",
       "        vertical-align: top;\n",
       "    }\n",
       "\n",
       "    .dataframe thead th {\n",
       "        text-align: right;\n",
       "    }\n",
       "</style>\n",
       "<table border=\"1\" class=\"dataframe\">\n",
       "  <thead>\n",
       "    <tr style=\"text-align: right;\">\n",
       "      <th></th>\n",
       "      <th>datetime</th>\n",
       "      <th>city</th>\n",
       "      <th>state</th>\n",
       "      <th>country</th>\n",
       "      <th>shape</th>\n",
       "      <th>duration (seconds)</th>\n",
       "      <th>duration (hours/min)</th>\n",
       "      <th>comments</th>\n",
       "      <th>date posted</th>\n",
       "      <th>latitude</th>\n",
       "      <th>longitude</th>\n",
       "    </tr>\n",
       "  </thead>\n",
       "  <tbody>\n",
       "    <tr>\n",
       "      <th>0</th>\n",
       "      <td>10/10/1949 20:30</td>\n",
       "      <td>san marcos</td>\n",
       "      <td>tx</td>\n",
       "      <td>us</td>\n",
       "      <td>cylinder</td>\n",
       "      <td>2700</td>\n",
       "      <td>45 minutes</td>\n",
       "      <td>This event took place in early fall around 194...</td>\n",
       "      <td>4/27/2004</td>\n",
       "      <td>29.8830556</td>\n",
       "      <td>-97.941111</td>\n",
       "    </tr>\n",
       "    <tr>\n",
       "      <th>1</th>\n",
       "      <td>10/10/1949 21:00</td>\n",
       "      <td>lackland afb</td>\n",
       "      <td>tx</td>\n",
       "      <td>NaN</td>\n",
       "      <td>light</td>\n",
       "      <td>7200</td>\n",
       "      <td>1-2 hrs</td>\n",
       "      <td>1949 Lackland AFB&amp;#44 TX.  Lights racing acros...</td>\n",
       "      <td>12/16/2005</td>\n",
       "      <td>29.38421</td>\n",
       "      <td>-98.581082</td>\n",
       "    </tr>\n",
       "    <tr>\n",
       "      <th>2</th>\n",
       "      <td>10/10/1955 17:00</td>\n",
       "      <td>chester (uk/england)</td>\n",
       "      <td>NaN</td>\n",
       "      <td>gb</td>\n",
       "      <td>circle</td>\n",
       "      <td>20</td>\n",
       "      <td>20 seconds</td>\n",
       "      <td>Green/Orange circular disc over Chester&amp;#44 En...</td>\n",
       "      <td>1/21/2008</td>\n",
       "      <td>53.2</td>\n",
       "      <td>-2.916667</td>\n",
       "    </tr>\n",
       "    <tr>\n",
       "      <th>3</th>\n",
       "      <td>10/10/1956 21:00</td>\n",
       "      <td>edna</td>\n",
       "      <td>tx</td>\n",
       "      <td>us</td>\n",
       "      <td>circle</td>\n",
       "      <td>20</td>\n",
       "      <td>1/2 hour</td>\n",
       "      <td>My older brother and twin sister were leaving ...</td>\n",
       "      <td>1/17/2004</td>\n",
       "      <td>28.9783333</td>\n",
       "      <td>-96.645833</td>\n",
       "    </tr>\n",
       "    <tr>\n",
       "      <th>4</th>\n",
       "      <td>10/10/1960 20:00</td>\n",
       "      <td>kaneohe</td>\n",
       "      <td>hi</td>\n",
       "      <td>us</td>\n",
       "      <td>light</td>\n",
       "      <td>900</td>\n",
       "      <td>15 minutes</td>\n",
       "      <td>AS a Marine 1st Lt. flying an FJ4B fighter/att...</td>\n",
       "      <td>1/22/2004</td>\n",
       "      <td>21.4180556</td>\n",
       "      <td>-157.803611</td>\n",
       "    </tr>\n",
       "  </tbody>\n",
       "</table>\n",
       "</div>"
      ],
      "text/plain": [
       "           datetime                  city state country     shape  \\\n",
       "0  10/10/1949 20:30            san marcos    tx      us  cylinder   \n",
       "1  10/10/1949 21:00          lackland afb    tx     NaN     light   \n",
       "2  10/10/1955 17:00  chester (uk/england)   NaN      gb    circle   \n",
       "3  10/10/1956 21:00                  edna    tx      us    circle   \n",
       "4  10/10/1960 20:00               kaneohe    hi      us     light   \n",
       "\n",
       "  duration (seconds) duration (hours/min)  \\\n",
       "0               2700           45 minutes   \n",
       "1               7200              1-2 hrs   \n",
       "2                 20           20 seconds   \n",
       "3                 20             1/2 hour   \n",
       "4                900           15 minutes   \n",
       "\n",
       "                                            comments date posted    latitude  \\\n",
       "0  This event took place in early fall around 194...   4/27/2004  29.8830556   \n",
       "1  1949 Lackland AFB&#44 TX.  Lights racing acros...  12/16/2005    29.38421   \n",
       "2  Green/Orange circular disc over Chester&#44 En...   1/21/2008        53.2   \n",
       "3  My older brother and twin sister were leaving ...   1/17/2004  28.9783333   \n",
       "4  AS a Marine 1st Lt. flying an FJ4B fighter/att...   1/22/2004  21.4180556   \n",
       "\n",
       "   longitude   \n",
       "0  -97.941111  \n",
       "1  -98.581082  \n",
       "2   -2.916667  \n",
       "3  -96.645833  \n",
       "4 -157.803611  "
      ]
     },
     "execution_count": 3,
     "metadata": {},
     "output_type": "execute_result"
    }
   ],
   "source": [
    "data.head()"
   ]
  },
  {
   "cell_type": "code",
   "execution_count": 4,
   "metadata": {},
   "outputs": [
    {
     "data": {
      "text/plain": [
       "(80332, 11)"
      ]
     },
     "execution_count": 4,
     "metadata": {},
     "output_type": "execute_result"
    }
   ],
   "source": [
    "data.shape"
   ]
  },
  {
   "cell_type": "code",
   "execution_count": 5,
   "metadata": {},
   "outputs": [
    {
     "data": {
      "text/plain": [
       "<matplotlib.axes._subplots.AxesSubplot at 0x210945a90f0>"
      ]
     },
     "execution_count": 5,
     "metadata": {},
     "output_type": "execute_result"
    },
    {
     "data": {
      "image/png": "[encoded data removed]",
      "text/plain": [
       "<Figure size 432x288 with 2 Axes>"
      ]
     },
     "metadata": {
      "needs_background": "light"
     },
     "output_type": "display_data"
    }
   ],
   "source": [
    "sns.heatmap(data.isnull())"
   ]
  },
  {
   "cell_type": "code",
   "execution_count": 6,
   "metadata": {},
   "outputs": [],
   "source": [
    "data.drop(['duration (hours/min)','comments','state','country'],axis=1, inplace = True)"
   ]
  },
  {
   "cell_type": "code",
   "execution_count": 7,
   "metadata": {},
   "outputs": [
    {
     "data": {
      "text/plain": [
       "count     78400\n",
       "unique       29\n",
       "top       light\n",
       "freq      16565\n",
       "Name: shape, dtype: object"
      ]
     },
     "execution_count": 7,
     "metadata": {},
     "output_type": "execute_result"
    }
   ],
   "source": [
    "data['shape'].describe()"
   ]
  },
  {
   "cell_type": "code",
   "execution_count": 8,
   "metadata": {},
   "outputs": [],
   "source": [
    "def impute_shape(col):\n",
    "    \n",
    "    if pd.isnull(col):\n",
    "        return 'light'\n",
    "    else:\n",
    "        return col"
   ]
  },
  {
   "cell_type": "code",
   "execution_count": 9,
   "metadata": {},
   "outputs": [],
   "source": [
    "data['shape'] = data['shape'].apply(impute_shape)"
   ]
  },
  {
   "cell_type": "code",
   "execution_count": 10,
   "metadata": {},
   "outputs": [
    {
     "data": {
      "text/plain": [
       "<matplotlib.axes._subplots.AxesSubplot at 0x21094631860>"
      ]
     },
     "execution_count": 10,
     "metadata": {},
     "output_type": "execute_result"
    },
    {
     "data": {
      "image/png": "[encoded data removed]",
      "text/plain": [
       "<Figure size 432x288 with 2 Axes>"
      ]
     },
     "metadata": {
      "needs_background": "light"
     },
     "output_type": "display_data"
    }
   ],
   "source": [
    "sns.heatmap(data.isnull())"
   ]
  },
  {
   "cell_type": "code",
   "execution_count": 11,
   "metadata": {},
   "outputs": [],
   "source": [
    "data.drop(['date posted'],axis=1,inplace=True)"
   ]
  },
  {
   "cell_type": "code",
   "execution_count": 12,
   "metadata": {},
   "outputs": [
    {
     "data": {
      "text/plain": [
       "(80332, 6)"
      ]
     },
     "execution_count": 12,
     "metadata": {},
     "output_type": "execute_result"
    }
   ],
   "source": [
    "data.shape"
   ]
  },
  {
   "cell_type": "code",
   "execution_count": 13,
   "metadata": {},
   "outputs": [
    {
     "data": {
      "text/plain": [
       "Index(['datetime', 'city', 'shape', 'duration (seconds)', 'latitude',\n",
       "       'longitude '],\n",
       "      dtype='object')"
      ]
     },
     "execution_count": 13,
     "metadata": {},
     "output_type": "execute_result"
    }
   ],
   "source": [
    "data.columns"
   ]
  },
  {
   "cell_type": "code",
   "execution_count": 14,
   "metadata": {},
   "outputs": [],
   "source": [
    "def get_date(col):\n",
    "    return col.split(' ')[0]\n",
    "\n",
    "def get_time(col):\n",
    "    return col.split(' ')[1]"
   ]
  },
  {
   "cell_type": "code",
   "execution_count": 15,
   "metadata": {},
   "outputs": [],
   "source": [
    "data['date'] = data['datetime'].apply(get_date)\n",
    "data['time'] = data['datetime'].apply(get_time)"
   ]
  },
  {
   "cell_type": "code",
   "execution_count": 16,
   "metadata": {},
   "outputs": [
    {
     "data": {
      "text/html": [
       "<div>\n",
       "<style scoped>\n",
       "    .dataframe tbody tr th:only-of-type {\n",
       "        vertical-align: middle;\n",
       "    }\n",
       "\n",
       "    .dataframe tbody tr th {\n",
       "        vertical-align: top;\n",
       "    }\n",
       "\n",
       "    .dataframe thead th {\n",
       "        text-align: right;\n",
       "    }\n",
       "</style>\n",
       "<table border=\"1\" class=\"dataframe\">\n",
       "  <thead>\n",
       "    <tr style=\"text-align: right;\">\n",
       "      <th></th>\n",
       "      <th>datetime</th>\n",
       "      <th>city</th>\n",
       "      <th>shape</th>\n",
       "      <th>duration (seconds)</th>\n",
       "      <th>latitude</th>\n",
       "      <th>longitude</th>\n",
       "      <th>date</th>\n",
       "      <th>time</th>\n",
       "    </tr>\n",
       "  </thead>\n",
       "  <tbody>\n",
       "    <tr>\n",
       "      <th>0</th>\n",
       "      <td>10/10/1949 20:30</td>\n",
       "      <td>san marcos</td>\n",
       "      <td>cylinder</td>\n",
       "      <td>2700</td>\n",
       "      <td>29.8830556</td>\n",
       "      <td>-97.941111</td>\n",
       "      <td>10/10/1949</td>\n",
       "      <td>20:30</td>\n",
       "    </tr>\n",
       "    <tr>\n",
       "      <th>1</th>\n",
       "      <td>10/10/1949 21:00</td>\n",
       "      <td>lackland afb</td>\n",
       "      <td>light</td>\n",
       "      <td>7200</td>\n",
       "      <td>29.38421</td>\n",
       "      <td>-98.581082</td>\n",
       "      <td>10/10/1949</td>\n",
       "      <td>21:00</td>\n",
       "    </tr>\n",
       "    <tr>\n",
       "      <th>2</th>\n",
       "      <td>10/10/1955 17:00</td>\n",
       "      <td>chester (uk/england)</td>\n",
       "      <td>circle</td>\n",
       "      <td>20</td>\n",
       "      <td>53.2</td>\n",
       "      <td>-2.916667</td>\n",
       "      <td>10/10/1955</td>\n",
       "      <td>17:00</td>\n",
       "    </tr>\n",
       "    <tr>\n",
       "      <th>3</th>\n",
       "      <td>10/10/1956 21:00</td>\n",
       "      <td>edna</td>\n",
       "      <td>circle</td>\n",
       "      <td>20</td>\n",
       "      <td>28.9783333</td>\n",
       "      <td>-96.645833</td>\n",
       "      <td>10/10/1956</td>\n",
       "      <td>21:00</td>\n",
       "    </tr>\n",
       "    <tr>\n",
       "      <th>4</th>\n",
       "      <td>10/10/1960 20:00</td>\n",
       "      <td>kaneohe</td>\n",
       "      <td>light</td>\n",
       "      <td>900</td>\n",
       "      <td>21.4180556</td>\n",
       "      <td>-157.803611</td>\n",
       "      <td>10/10/1960</td>\n",
       "      <td>20:00</td>\n",
       "    </tr>\n",
       "  </tbody>\n",
       "</table>\n",
       "</div>"
      ],
      "text/plain": [
       "           datetime                  city     shape duration (seconds)  \\\n",
       "0  10/10/1949 20:30            san marcos  cylinder               2700   \n",
       "1  10/10/1949 21:00          lackland afb     light               7200   \n",
       "2  10/10/1955 17:00  chester (uk/england)    circle                 20   \n",
       "3  10/10/1956 21:00                  edna    circle                 20   \n",
       "4  10/10/1960 20:00               kaneohe     light                900   \n",
       "\n",
       "     latitude  longitude         date   time  \n",
       "0  29.8830556  -97.941111  10/10/1949  20:30  \n",
       "1    29.38421  -98.581082  10/10/1949  21:00  \n",
       "2        53.2   -2.916667  10/10/1955  17:00  \n",
       "3  28.9783333  -96.645833  10/10/1956  21:00  \n",
       "4  21.4180556 -157.803611  10/10/1960  20:00  "
      ]
     },
     "execution_count": 16,
     "metadata": {},
     "output_type": "execute_result"
    }
   ],
   "source": [
    "data.head()"
   ]
  },
  {
   "cell_type": "code",
   "execution_count": 17,
   "metadata": {},
   "outputs": [],
   "source": [
    "data.drop(['datetime'],axis=1,inplace=True)"
   ]
  },
  {
   "cell_type": "code",
   "execution_count": 18,
   "metadata": {},
   "outputs": [
    {
     "data": {
      "text/html": [
       "<div>\n",
       "<style scoped>\n",
       "    .dataframe tbody tr th:only-of-type {\n",
       "        vertical-align: middle;\n",
       "    }\n",
       "\n",
       "    .dataframe tbody tr th {\n",
       "        vertical-align: top;\n",
       "    }\n",
       "\n",
       "    .dataframe thead th {\n",
       "        text-align: right;\n",
       "    }\n",
       "</style>\n",
       "<table border=\"1\" class=\"dataframe\">\n",
       "  <thead>\n",
       "    <tr style=\"text-align: right;\">\n",
       "      <th></th>\n",
       "      <th>city</th>\n",
       "      <th>shape</th>\n",
       "      <th>duration (seconds)</th>\n",
       "      <th>latitude</th>\n",
       "      <th>longitude</th>\n",
       "      <th>date</th>\n",
       "      <th>time</th>\n",
       "    </tr>\n",
       "  </thead>\n",
       "  <tbody>\n",
       "    <tr>\n",
       "      <th>0</th>\n",
       "      <td>san marcos</td>\n",
       "      <td>cylinder</td>\n",
       "      <td>2700</td>\n",
       "      <td>29.8830556</td>\n",
       "      <td>-97.941111</td>\n",
       "      <td>10/10/1949</td>\n",
       "      <td>20:30</td>\n",
       "    </tr>\n",
       "    <tr>\n",
       "      <th>1</th>\n",
       "      <td>lackland afb</td>\n",
       "      <td>light</td>\n",
       "      <td>7200</td>\n",
       "      <td>29.38421</td>\n",
       "      <td>-98.581082</td>\n",
       "      <td>10/10/1949</td>\n",
       "      <td>21:00</td>\n",
       "    </tr>\n",
       "    <tr>\n",
       "      <th>2</th>\n",
       "      <td>chester (uk/england)</td>\n",
       "      <td>circle</td>\n",
       "      <td>20</td>\n",
       "      <td>53.2</td>\n",
       "      <td>-2.916667</td>\n",
       "      <td>10/10/1955</td>\n",
       "      <td>17:00</td>\n",
       "    </tr>\n",
       "    <tr>\n",
       "      <th>3</th>\n",
       "      <td>edna</td>\n",
       "      <td>circle</td>\n",
       "      <td>20</td>\n",
       "      <td>28.9783333</td>\n",
       "      <td>-96.645833</td>\n",
       "      <td>10/10/1956</td>\n",
       "      <td>21:00</td>\n",
       "    </tr>\n",
       "    <tr>\n",
       "      <th>4</th>\n",
       "      <td>kaneohe</td>\n",
       "      <td>light</td>\n",
       "      <td>900</td>\n",
       "      <td>21.4180556</td>\n",
       "      <td>-157.803611</td>\n",
       "      <td>10/10/1960</td>\n",
       "      <td>20:00</td>\n",
       "    </tr>\n",
       "  </tbody>\n",
       "</table>\n",
       "</div>"
      ],
      "text/plain": [
       "                   city     shape duration (seconds)    latitude  longitude   \\\n",
       "0            san marcos  cylinder               2700  29.8830556  -97.941111   \n",
       "1          lackland afb     light               7200    29.38421  -98.581082   \n",
       "2  chester (uk/england)    circle                 20        53.2   -2.916667   \n",
       "3                  edna    circle                 20  28.9783333  -96.645833   \n",
       "4               kaneohe     light                900  21.4180556 -157.803611   \n",
       "\n",
       "         date   time  \n",
       "0  10/10/1949  20:30  \n",
       "1  10/10/1949  21:00  \n",
       "2  10/10/1955  17:00  \n",
       "3  10/10/1956  21:00  \n",
       "4  10/10/1960  20:00  "
      ]
     },
     "execution_count": 18,
     "metadata": {},
     "output_type": "execute_result"
    }
   ],
   "source": [
    "data.head()"
   ]
  },
  {
   "cell_type": "code",
   "execution_count": 19,
   "metadata": {},
   "outputs": [],
   "source": [
    "def get_month(col):\n",
    "    return col.split('/')[0]\n",
    "\n",
    "def get_day(col):\n",
    "    return col.split('/')[1]\n",
    "\n",
    "def get_year(col):\n",
    "    return col.split('/')[2]"
   ]
  },
  {
   "cell_type": "code",
   "execution_count": 20,
   "metadata": {},
   "outputs": [],
   "source": [
    "data['month'] = data['date'].apply(get_month)\n",
    "data['day'] = data['date'].apply(get_day)\n",
    "data['year'] = data['date'].apply(get_year)"
   ]
  },
  {
   "cell_type": "code",
   "execution_count": 21,
   "metadata": {},
   "outputs": [
    {
     "data": {
      "text/html": [
       "<div>\n",
       "<style scoped>\n",
       "    .dataframe tbody tr th:only-of-type {\n",
       "        vertical-align: middle;\n",
       "    }\n",
       "\n",
       "    .dataframe tbody tr th {\n",
       "        vertical-align: top;\n",
       "    }\n",
       "\n",
       "    .dataframe thead th {\n",
       "        text-align: right;\n",
       "    }\n",
       "</style>\n",
       "<table border=\"1\" class=\"dataframe\">\n",
       "  <thead>\n",
       "    <tr style=\"text-align: right;\">\n",
       "      <th></th>\n",
       "      <th>city</th>\n",
       "      <th>shape</th>\n",
       "      <th>duration (seconds)</th>\n",
       "      <th>latitude</th>\n",
       "      <th>longitude</th>\n",
       "      <th>date</th>\n",
       "      <th>time</th>\n",
       "      <th>month</th>\n",
       "      <th>day</th>\n",
       "      <th>year</th>\n",
       "    </tr>\n",
       "  </thead>\n",
       "  <tbody>\n",
       "    <tr>\n",
       "      <th>0</th>\n",
       "      <td>san marcos</td>\n",
       "      <td>cylinder</td>\n",
       "      <td>2700</td>\n",
       "      <td>29.8830556</td>\n",
       "      <td>-97.941111</td>\n",
       "      <td>10/10/1949</td>\n",
       "      <td>20:30</td>\n",
       "      <td>10</td>\n",
       "      <td>10</td>\n",
       "      <td>1949</td>\n",
       "    </tr>\n",
       "    <tr>\n",
       "      <th>1</th>\n",
       "      <td>lackland afb</td>\n",
       "      <td>light</td>\n",
       "      <td>7200</td>\n",
       "      <td>29.38421</td>\n",
       "      <td>-98.581082</td>\n",
       "      <td>10/10/1949</td>\n",
       "      <td>21:00</td>\n",
       "      <td>10</td>\n",
       "      <td>10</td>\n",
       "      <td>1949</td>\n",
       "    </tr>\n",
       "    <tr>\n",
       "      <th>2</th>\n",
       "      <td>chester (uk/england)</td>\n",
       "      <td>circle</td>\n",
       "      <td>20</td>\n",
       "      <td>53.2</td>\n",
       "      <td>-2.916667</td>\n",
       "      <td>10/10/1955</td>\n",
       "      <td>17:00</td>\n",
       "      <td>10</td>\n",
       "      <td>10</td>\n",
       "      <td>1955</td>\n",
       "    </tr>\n",
       "    <tr>\n",
       "      <th>3</th>\n",
       "      <td>edna</td>\n",
       "      <td>circle</td>\n",
       "      <td>20</td>\n",
       "      <td>28.9783333</td>\n",
       "      <td>-96.645833</td>\n",
       "      <td>10/10/1956</td>\n",
       "      <td>21:00</td>\n",
       "      <td>10</td>\n",
       "      <td>10</td>\n",
       "      <td>1956</td>\n",
       "    </tr>\n",
       "    <tr>\n",
       "      <th>4</th>\n",
       "      <td>kaneohe</td>\n",
       "      <td>light</td>\n",
       "      <td>900</td>\n",
       "      <td>21.4180556</td>\n",
       "      <td>-157.803611</td>\n",
       "      <td>10/10/1960</td>\n",
       "      <td>20:00</td>\n",
       "      <td>10</td>\n",
       "      <td>10</td>\n",
       "      <td>1960</td>\n",
       "    </tr>\n",
       "  </tbody>\n",
       "</table>\n",
       "</div>"
      ],
      "text/plain": [
       "                   city     shape duration (seconds)    latitude  longitude   \\\n",
       "0            san marcos  cylinder               2700  29.8830556  -97.941111   \n",
       "1          lackland afb     light               7200    29.38421  -98.581082   \n",
       "2  chester (uk/england)    circle                 20        53.2   -2.916667   \n",
       "3                  edna    circle                 20  28.9783333  -96.645833   \n",
       "4               kaneohe     light                900  21.4180556 -157.803611   \n",
       "\n",
       "         date   time month day  year  \n",
       "0  10/10/1949  20:30    10  10  1949  \n",
       "1  10/10/1949  21:00    10  10  1949  \n",
       "2  10/10/1955  17:00    10  10  1955  \n",
       "3  10/10/1956  21:00    10  10  1956  \n",
       "4  10/10/1960  20:00    10  10  1960  "
      ]
     },
     "execution_count": 21,
     "metadata": {},
     "output_type": "execute_result"
    }
   ],
   "source": [
    "data.head()"
   ]
  },
  {
   "cell_type": "code",
   "execution_count": 22,
   "metadata": {},
   "outputs": [],
   "source": [
    "data.drop(['date'],axis=1,inplace=True)"
   ]
  },
  {
   "cell_type": "code",
   "execution_count": 23,
   "metadata": {},
   "outputs": [],
   "source": [
    "def get_hours(col):\n",
    "    return col.split(':')[0]\n",
    "\n",
    "def get_min(col):\n",
    "    return col.split(':')[1]"
   ]
  },
  {
   "cell_type": "code",
   "execution_count": 24,
   "metadata": {},
   "outputs": [],
   "source": [
    "data['hours'] = data['time'].apply(get_hours)\n",
    "data['minutes'] = data['time'].apply(get_min)"
   ]
  },
  {
   "cell_type": "code",
   "execution_count": 25,
   "metadata": {},
   "outputs": [
    {
     "data": {
      "text/html": [
       "<div>\n",
       "<style scoped>\n",
       "    .dataframe tbody tr th:only-of-type {\n",
       "        vertical-align: middle;\n",
       "    }\n",
       "\n",
       "    .dataframe tbody tr th {\n",
       "        vertical-align: top;\n",
       "    }\n",
       "\n",
       "    .dataframe thead th {\n",
       "        text-align: right;\n",
       "    }\n",
       "</style>\n",
       "<table border=\"1\" class=\"dataframe\">\n",
       "  <thead>\n",
       "    <tr style=\"text-align: right;\">\n",
       "      <th></th>\n",
       "      <th>city</th>\n",
       "      <th>shape</th>\n",
       "      <th>duration (seconds)</th>\n",
       "      <th>latitude</th>\n",
       "      <th>longitude</th>\n",
       "      <th>time</th>\n",
       "      <th>month</th>\n",
       "      <th>day</th>\n",
       "      <th>year</th>\n",
       "      <th>hours</th>\n",
       "      <th>minutes</th>\n",
       "    </tr>\n",
       "  </thead>\n",
       "  <tbody>\n",
       "    <tr>\n",
       "      <th>0</th>\n",
       "      <td>san marcos</td>\n",
       "      <td>cylinder</td>\n",
       "      <td>2700</td>\n",
       "      <td>29.8830556</td>\n",
       "      <td>-97.941111</td>\n",
       "      <td>20:30</td>\n",
       "      <td>10</td>\n",
       "      <td>10</td>\n",
       "      <td>1949</td>\n",
       "      <td>20</td>\n",
       "      <td>30</td>\n",
       "    </tr>\n",
       "    <tr>\n",
       "      <th>1</th>\n",
       "      <td>lackland afb</td>\n",
       "      <td>light</td>\n",
       "      <td>7200</td>\n",
       "      <td>29.38421</td>\n",
       "      <td>-98.581082</td>\n",
       "      <td>21:00</td>\n",
       "      <td>10</td>\n",
       "      <td>10</td>\n",
       "      <td>1949</td>\n",
       "      <td>21</td>\n",
       "      <td>00</td>\n",
       "    </tr>\n",
       "    <tr>\n",
       "      <th>2</th>\n",
       "      <td>chester (uk/england)</td>\n",
       "      <td>circle</td>\n",
       "      <td>20</td>\n",
       "      <td>53.2</td>\n",
       "      <td>-2.916667</td>\n",
       "      <td>17:00</td>\n",
       "      <td>10</td>\n",
       "      <td>10</td>\n",
       "      <td>1955</td>\n",
       "      <td>17</td>\n",
       "      <td>00</td>\n",
       "    </tr>\n",
       "    <tr>\n",
       "      <th>3</th>\n",
       "      <td>edna</td>\n",
       "      <td>circle</td>\n",
       "      <td>20</td>\n",
       "      <td>28.9783333</td>\n",
       "      <td>-96.645833</td>\n",
       "      <td>21:00</td>\n",
       "      <td>10</td>\n",
       "      <td>10</td>\n",
       "      <td>1956</td>\n",
       "      <td>21</td>\n",
       "      <td>00</td>\n",
       "    </tr>\n",
       "    <tr>\n",
       "      <th>4</th>\n",
       "      <td>kaneohe</td>\n",
       "      <td>light</td>\n",
       "      <td>900</td>\n",
       "      <td>21.4180556</td>\n",
       "      <td>-157.803611</td>\n",
       "      <td>20:00</td>\n",
       "      <td>10</td>\n",
       "      <td>10</td>\n",
       "      <td>1960</td>\n",
       "      <td>20</td>\n",
       "      <td>00</td>\n",
       "    </tr>\n",
       "  </tbody>\n",
       "</table>\n",
       "</div>"
      ],
      "text/plain": [
       "                   city     shape duration (seconds)    latitude  longitude   \\\n",
       "0            san marcos  cylinder               2700  29.8830556  -97.941111   \n",
       "1          lackland afb     light               7200    29.38421  -98.581082   \n",
       "2  chester (uk/england)    circle                 20        53.2   -2.916667   \n",
       "3                  edna    circle                 20  28.9783333  -96.645833   \n",
       "4               kaneohe     light                900  21.4180556 -157.803611   \n",
       "\n",
       "    time month day  year hours minutes  \n",
       "0  20:30    10  10  1949    20      30  \n",
       "1  21:00    10  10  1949    21      00  \n",
       "2  17:00    10  10  1955    17      00  \n",
       "3  21:00    10  10  1956    21      00  \n",
       "4  20:00    10  10  1960    20      00  "
      ]
     },
     "execution_count": 25,
     "metadata": {},
     "output_type": "execute_result"
    }
   ],
   "source": [
    "data.head()"
   ]
  },
  {
   "cell_type": "code",
   "execution_count": 26,
   "metadata": {},
   "outputs": [],
   "source": [
    "data.drop(['time'],axis=1,inplace=True)"
   ]
  },
  {
   "cell_type": "code",
   "execution_count": 27,
   "metadata": {},
   "outputs": [
    {
     "data": {
      "text/html": [
       "<div>\n",
       "<style scoped>\n",
       "    .dataframe tbody tr th:only-of-type {\n",
       "        vertical-align: middle;\n",
       "    }\n",
       "\n",
       "    .dataframe tbody tr th {\n",
       "        vertical-align: top;\n",
       "    }\n",
       "\n",
       "    .dataframe thead th {\n",
       "        text-align: right;\n",
       "    }\n",
       "</style>\n",
       "<table border=\"1\" class=\"dataframe\">\n",
       "  <thead>\n",
       "    <tr style=\"text-align: right;\">\n",
       "      <th></th>\n",
       "      <th>city</th>\n",
       "      <th>shape</th>\n",
       "      <th>duration (seconds)</th>\n",
       "      <th>latitude</th>\n",
       "      <th>longitude</th>\n",
       "      <th>month</th>\n",
       "      <th>day</th>\n",
       "      <th>year</th>\n",
       "      <th>hours</th>\n",
       "      <th>minutes</th>\n",
       "    </tr>\n",
       "  </thead>\n",
       "  <tbody>\n",
       "    <tr>\n",
       "      <th>0</th>\n",
       "      <td>san marcos</td>\n",
       "      <td>cylinder</td>\n",
       "      <td>2700</td>\n",
       "      <td>29.8830556</td>\n",
       "      <td>-97.941111</td>\n",
       "      <td>10</td>\n",
       "      <td>10</td>\n",
       "      <td>1949</td>\n",
       "      <td>20</td>\n",
       "      <td>30</td>\n",
       "    </tr>\n",
       "    <tr>\n",
       "      <th>1</th>\n",
       "      <td>lackland afb</td>\n",
       "      <td>light</td>\n",
       "      <td>7200</td>\n",
       "      <td>29.38421</td>\n",
       "      <td>-98.581082</td>\n",
       "      <td>10</td>\n",
       "      <td>10</td>\n",
       "      <td>1949</td>\n",
       "      <td>21</td>\n",
       "      <td>00</td>\n",
       "    </tr>\n",
       "    <tr>\n",
       "      <th>2</th>\n",
       "      <td>chester (uk/england)</td>\n",
       "      <td>circle</td>\n",
       "      <td>20</td>\n",
       "      <td>53.2</td>\n",
       "      <td>-2.916667</td>\n",
       "      <td>10</td>\n",
       "      <td>10</td>\n",
       "      <td>1955</td>\n",
       "      <td>17</td>\n",
       "      <td>00</td>\n",
       "    </tr>\n",
       "    <tr>\n",
       "      <th>3</th>\n",
       "      <td>edna</td>\n",
       "      <td>circle</td>\n",
       "      <td>20</td>\n",
       "      <td>28.9783333</td>\n",
       "      <td>-96.645833</td>\n",
       "      <td>10</td>\n",
       "      <td>10</td>\n",
       "      <td>1956</td>\n",
       "      <td>21</td>\n",
       "      <td>00</td>\n",
       "    </tr>\n",
       "    <tr>\n",
       "      <th>4</th>\n",
       "      <td>kaneohe</td>\n",
       "      <td>light</td>\n",
       "      <td>900</td>\n",
       "      <td>21.4180556</td>\n",
       "      <td>-157.803611</td>\n",
       "      <td>10</td>\n",
       "      <td>10</td>\n",
       "      <td>1960</td>\n",
       "      <td>20</td>\n",
       "      <td>00</td>\n",
       "    </tr>\n",
       "  </tbody>\n",
       "</table>\n",
       "</div>"
      ],
      "text/plain": [
       "                   city     shape duration (seconds)    latitude  longitude   \\\n",
       "0            san marcos  cylinder               2700  29.8830556  -97.941111   \n",
       "1          lackland afb     light               7200    29.38421  -98.581082   \n",
       "2  chester (uk/england)    circle                 20        53.2   -2.916667   \n",
       "3                  edna    circle                 20  28.9783333  -96.645833   \n",
       "4               kaneohe     light                900  21.4180556 -157.803611   \n",
       "\n",
       "  month day  year hours minutes  \n",
       "0    10  10  1949    20      30  \n",
       "1    10  10  1949    21      00  \n",
       "2    10  10  1955    17      00  \n",
       "3    10  10  1956    21      00  \n",
       "4    10  10  1960    20      00  "
      ]
     },
     "execution_count": 27,
     "metadata": {},
     "output_type": "execute_result"
    }
   ],
   "source": [
    "data.head()"
   ]
  },
  {
   "cell_type": "code",
   "execution_count": 28,
   "metadata": {},
   "outputs": [
    {
     "data": {
      "text/plain": [
       "(80332, 10)"
      ]
     },
     "execution_count": 28,
     "metadata": {},
     "output_type": "execute_result"
    }
   ],
   "source": [
    "data.shape"
   ]
  },
  {
   "cell_type": "code",
   "execution_count": 29,
   "metadata": {},
   "outputs": [
    {
     "data": {
      "text/plain": [
       "19900"
      ]
     },
     "execution_count": 29,
     "metadata": {},
     "output_type": "execute_result"
    }
   ],
   "source": [
    "data['city'].value_counts().index.value_counts().sum()"
   ]
  },
  {
   "cell_type": "code",
   "execution_count": 30,
   "metadata": {},
   "outputs": [
    {
     "data": {
      "text/plain": [
       "29"
      ]
     },
     "execution_count": 30,
     "metadata": {},
     "output_type": "execute_result"
    }
   ],
   "source": [
    "len(data['shape'].value_counts().index)"
   ]
  },
  {
   "cell_type": "code",
   "execution_count": 31,
   "metadata": {},
   "outputs": [
    {
     "data": {
      "text/plain": [
       "19900"
      ]
     },
     "execution_count": 31,
     "metadata": {},
     "output_type": "execute_result"
    }
   ],
   "source": [
    "len(data['city'].value_counts().index)"
   ]
  },
  {
   "cell_type": "code",
   "execution_count": 32,
   "metadata": {},
   "outputs": [],
   "source": [
    "shape_lst = list(data['shape'].value_counts().index)"
   ]
  },
  {
   "cell_type": "code",
   "execution_count": 33,
   "metadata": {},
   "outputs": [
    {
     "data": {
      "text/plain": [
       "['light',\n",
       " 'triangle',\n",
       " 'circle',\n",
       " 'fireball',\n",
       " 'other',\n",
       " 'unknown',\n",
       " 'sphere',\n",
       " 'disk',\n",
       " 'oval',\n",
       " 'formation',\n",
       " 'cigar',\n",
       " 'changing',\n",
       " 'flash',\n",
       " 'rectangle',\n",
       " 'cylinder',\n",
       " 'diamond',\n",
       " 'chevron',\n",
       " 'egg',\n",
       " 'teardrop',\n",
       " 'cone',\n",
       " 'cross',\n",
       " 'delta',\n",
       " 'crescent',\n",
       " 'round',\n",
       " 'dome',\n",
       " 'pyramid',\n",
       " 'changed',\n",
       " 'hexagon',\n",
       " 'flare']"
      ]
     },
     "execution_count": 33,
     "metadata": {},
     "output_type": "execute_result"
    }
   ],
   "source": [
    "shape_lst"
   ]
  },
  {
   "cell_type": "code",
   "execution_count": 34,
   "metadata": {},
   "outputs": [],
   "source": [
    "def shape_dummy(col):\n",
    "    return shape_lst.index(col)"
   ]
  },
  {
   "cell_type": "code",
   "execution_count": 35,
   "metadata": {},
   "outputs": [],
   "source": [
    "data['shape'] = data['shape'].apply(shape_dummy)"
   ]
  },
  {
   "cell_type": "code",
   "execution_count": 36,
   "metadata": {},
   "outputs": [
    {
     "data": {
      "text/html": [
       "<div>\n",
       "<style scoped>\n",
       "    .dataframe tbody tr th:only-of-type {\n",
       "        vertical-align: middle;\n",
       "    }\n",
       "\n",
       "    .dataframe tbody tr th {\n",
       "        vertical-align: top;\n",
       "    }\n",
       "\n",
       "    .dataframe thead th {\n",
       "        text-align: right;\n",
       "    }\n",
       "</style>\n",
       "<table border=\"1\" class=\"dataframe\">\n",
       "  <thead>\n",
       "    <tr style=\"text-align: right;\">\n",
       "      <th></th>\n",
       "      <th>city</th>\n",
       "      <th>shape</th>\n",
       "      <th>duration (seconds)</th>\n",
       "      <th>latitude</th>\n",
       "      <th>longitude</th>\n",
       "      <th>month</th>\n",
       "      <th>day</th>\n",
       "      <th>year</th>\n",
       "      <th>hours</th>\n",
       "      <th>minutes</th>\n",
       "    </tr>\n",
       "  </thead>\n",
       "  <tbody>\n",
       "    <tr>\n",
       "      <th>0</th>\n",
       "      <td>san marcos</td>\n",
       "      <td>14</td>\n",
       "      <td>2700</td>\n",
       "      <td>29.8830556</td>\n",
       "      <td>-97.941111</td>\n",
       "      <td>10</td>\n",
       "      <td>10</td>\n",
       "      <td>1949</td>\n",
       "      <td>20</td>\n",
       "      <td>30</td>\n",
       "    </tr>\n",
       "    <tr>\n",
       "      <th>1</th>\n",
       "      <td>lackland afb</td>\n",
       "      <td>0</td>\n",
       "      <td>7200</td>\n",
       "      <td>29.38421</td>\n",
       "      <td>-98.581082</td>\n",
       "      <td>10</td>\n",
       "      <td>10</td>\n",
       "      <td>1949</td>\n",
       "      <td>21</td>\n",
       "      <td>00</td>\n",
       "    </tr>\n",
       "    <tr>\n",
       "      <th>2</th>\n",
       "      <td>chester (uk/england)</td>\n",
       "      <td>2</td>\n",
       "      <td>20</td>\n",
       "      <td>53.2</td>\n",
       "      <td>-2.916667</td>\n",
       "      <td>10</td>\n",
       "      <td>10</td>\n",
       "      <td>1955</td>\n",
       "      <td>17</td>\n",
       "      <td>00</td>\n",
       "    </tr>\n",
       "    <tr>\n",
       "      <th>3</th>\n",
       "      <td>edna</td>\n",
       "      <td>2</td>\n",
       "      <td>20</td>\n",
       "      <td>28.9783333</td>\n",
       "      <td>-96.645833</td>\n",
       "      <td>10</td>\n",
       "      <td>10</td>\n",
       "      <td>1956</td>\n",
       "      <td>21</td>\n",
       "      <td>00</td>\n",
       "    </tr>\n",
       "    <tr>\n",
       "      <th>4</th>\n",
       "      <td>kaneohe</td>\n",
       "      <td>0</td>\n",
       "      <td>900</td>\n",
       "      <td>21.4180556</td>\n",
       "      <td>-157.803611</td>\n",
       "      <td>10</td>\n",
       "      <td>10</td>\n",
       "      <td>1960</td>\n",
       "      <td>20</td>\n",
       "      <td>00</td>\n",
       "    </tr>\n",
       "    <tr>\n",
       "      <th>5</th>\n",
       "      <td>bristol</td>\n",
       "      <td>6</td>\n",
       "      <td>300</td>\n",
       "      <td>36.5950000</td>\n",
       "      <td>-82.188889</td>\n",
       "      <td>10</td>\n",
       "      <td>10</td>\n",
       "      <td>1961</td>\n",
       "      <td>19</td>\n",
       "      <td>00</td>\n",
       "    </tr>\n",
       "    <tr>\n",
       "      <th>6</th>\n",
       "      <td>penarth (uk/wales)</td>\n",
       "      <td>2</td>\n",
       "      <td>180</td>\n",
       "      <td>51.434722</td>\n",
       "      <td>-3.180000</td>\n",
       "      <td>10</td>\n",
       "      <td>10</td>\n",
       "      <td>1965</td>\n",
       "      <td>21</td>\n",
       "      <td>00</td>\n",
       "    </tr>\n",
       "    <tr>\n",
       "      <th>7</th>\n",
       "      <td>norwalk</td>\n",
       "      <td>7</td>\n",
       "      <td>1200</td>\n",
       "      <td>41.1175000</td>\n",
       "      <td>-73.408333</td>\n",
       "      <td>10</td>\n",
       "      <td>10</td>\n",
       "      <td>1965</td>\n",
       "      <td>23</td>\n",
       "      <td>45</td>\n",
       "    </tr>\n",
       "    <tr>\n",
       "      <th>8</th>\n",
       "      <td>pell city</td>\n",
       "      <td>7</td>\n",
       "      <td>180</td>\n",
       "      <td>33.5861111</td>\n",
       "      <td>-86.286111</td>\n",
       "      <td>10</td>\n",
       "      <td>10</td>\n",
       "      <td>1966</td>\n",
       "      <td>20</td>\n",
       "      <td>00</td>\n",
       "    </tr>\n",
       "    <tr>\n",
       "      <th>9</th>\n",
       "      <td>live oak</td>\n",
       "      <td>7</td>\n",
       "      <td>120</td>\n",
       "      <td>30.2947222</td>\n",
       "      <td>-82.984167</td>\n",
       "      <td>10</td>\n",
       "      <td>10</td>\n",
       "      <td>1966</td>\n",
       "      <td>21</td>\n",
       "      <td>00</td>\n",
       "    </tr>\n",
       "    <tr>\n",
       "      <th>10</th>\n",
       "      <td>hawthorne</td>\n",
       "      <td>2</td>\n",
       "      <td>300</td>\n",
       "      <td>33.9163889</td>\n",
       "      <td>-118.351667</td>\n",
       "      <td>10</td>\n",
       "      <td>10</td>\n",
       "      <td>1968</td>\n",
       "      <td>13</td>\n",
       "      <td>00</td>\n",
       "    </tr>\n",
       "    <tr>\n",
       "      <th>11</th>\n",
       "      <td>brevard</td>\n",
       "      <td>3</td>\n",
       "      <td>180</td>\n",
       "      <td>35.2333333</td>\n",
       "      <td>-82.734444</td>\n",
       "      <td>10</td>\n",
       "      <td>10</td>\n",
       "      <td>1968</td>\n",
       "      <td>19</td>\n",
       "      <td>00</td>\n",
       "    </tr>\n",
       "    <tr>\n",
       "      <th>12</th>\n",
       "      <td>bellmore</td>\n",
       "      <td>7</td>\n",
       "      <td>1800</td>\n",
       "      <td>40.6686111</td>\n",
       "      <td>-73.527500</td>\n",
       "      <td>10</td>\n",
       "      <td>10</td>\n",
       "      <td>1970</td>\n",
       "      <td>16</td>\n",
       "      <td>00</td>\n",
       "    </tr>\n",
       "    <tr>\n",
       "      <th>13</th>\n",
       "      <td>manchester</td>\n",
       "      <td>5</td>\n",
       "      <td>180</td>\n",
       "      <td>37.1536111</td>\n",
       "      <td>-83.761944</td>\n",
       "      <td>10</td>\n",
       "      <td>10</td>\n",
       "      <td>1970</td>\n",
       "      <td>19</td>\n",
       "      <td>00</td>\n",
       "    </tr>\n",
       "    <tr>\n",
       "      <th>14</th>\n",
       "      <td>lexington</td>\n",
       "      <td>8</td>\n",
       "      <td>30</td>\n",
       "      <td>35.8238889</td>\n",
       "      <td>-80.253611</td>\n",
       "      <td>10</td>\n",
       "      <td>10</td>\n",
       "      <td>1971</td>\n",
       "      <td>21</td>\n",
       "      <td>00</td>\n",
       "    </tr>\n",
       "    <tr>\n",
       "      <th>15</th>\n",
       "      <td>harlan county</td>\n",
       "      <td>2</td>\n",
       "      <td>1200</td>\n",
       "      <td>36.8430556</td>\n",
       "      <td>-83.321944</td>\n",
       "      <td>10</td>\n",
       "      <td>10</td>\n",
       "      <td>1972</td>\n",
       "      <td>19</td>\n",
       "      <td>00</td>\n",
       "    </tr>\n",
       "    <tr>\n",
       "      <th>16</th>\n",
       "      <td>west bloomfield</td>\n",
       "      <td>7</td>\n",
       "      <td>120</td>\n",
       "      <td>42.5377778</td>\n",
       "      <td>-83.233056</td>\n",
       "      <td>10</td>\n",
       "      <td>10</td>\n",
       "      <td>1972</td>\n",
       "      <td>22</td>\n",
       "      <td>30</td>\n",
       "    </tr>\n",
       "    <tr>\n",
       "      <th>17</th>\n",
       "      <td>niantic</td>\n",
       "      <td>7</td>\n",
       "      <td>1800</td>\n",
       "      <td>41.3252778</td>\n",
       "      <td>-72.193611</td>\n",
       "      <td>10</td>\n",
       "      <td>10</td>\n",
       "      <td>1973</td>\n",
       "      <td>19</td>\n",
       "      <td>00</td>\n",
       "    </tr>\n",
       "    <tr>\n",
       "      <th>18</th>\n",
       "      <td>bermuda nas</td>\n",
       "      <td>0</td>\n",
       "      <td>20</td>\n",
       "      <td>32.364167</td>\n",
       "      <td>-64.678611</td>\n",
       "      <td>10</td>\n",
       "      <td>10</td>\n",
       "      <td>1973</td>\n",
       "      <td>23</td>\n",
       "      <td>00</td>\n",
       "    </tr>\n",
       "    <tr>\n",
       "      <th>19</th>\n",
       "      <td>hudson</td>\n",
       "      <td>4</td>\n",
       "      <td>2700</td>\n",
       "      <td>42.3916667</td>\n",
       "      <td>-71.566667</td>\n",
       "      <td>10</td>\n",
       "      <td>10</td>\n",
       "      <td>1974</td>\n",
       "      <td>19</td>\n",
       "      <td>30</td>\n",
       "    </tr>\n",
       "    <tr>\n",
       "      <th>20</th>\n",
       "      <td>cardiff (uk/wales)</td>\n",
       "      <td>7</td>\n",
       "      <td>1200</td>\n",
       "      <td>51.5</td>\n",
       "      <td>-3.200000</td>\n",
       "      <td>10</td>\n",
       "      <td>10</td>\n",
       "      <td>1974</td>\n",
       "      <td>21</td>\n",
       "      <td>30</td>\n",
       "    </tr>\n",
       "    <tr>\n",
       "      <th>21</th>\n",
       "      <td>hudson</td>\n",
       "      <td>0</td>\n",
       "      <td>1200</td>\n",
       "      <td>38.1055556</td>\n",
       "      <td>-98.659722</td>\n",
       "      <td>10</td>\n",
       "      <td>10</td>\n",
       "      <td>1974</td>\n",
       "      <td>23</td>\n",
       "      <td>00</td>\n",
       "    </tr>\n",
       "    <tr>\n",
       "      <th>22</th>\n",
       "      <td>north charleston</td>\n",
       "      <td>0</td>\n",
       "      <td>360</td>\n",
       "      <td>32.8544444</td>\n",
       "      <td>-79.975000</td>\n",
       "      <td>10</td>\n",
       "      <td>10</td>\n",
       "      <td>1975</td>\n",
       "      <td>17</td>\n",
       "      <td>00</td>\n",
       "    </tr>\n",
       "    <tr>\n",
       "      <th>23</th>\n",
       "      <td>washougal</td>\n",
       "      <td>8</td>\n",
       "      <td>60</td>\n",
       "      <td>45.5827778</td>\n",
       "      <td>-122.352222</td>\n",
       "      <td>10</td>\n",
       "      <td>10</td>\n",
       "      <td>1976</td>\n",
       "      <td>20</td>\n",
       "      <td>30</td>\n",
       "    </tr>\n",
       "    <tr>\n",
       "      <th>24</th>\n",
       "      <td>stoke mandeville (uk/england)</td>\n",
       "      <td>10</td>\n",
       "      <td>3</td>\n",
       "      <td>51.783333</td>\n",
       "      <td>-0.783333</td>\n",
       "      <td>10</td>\n",
       "      <td>10</td>\n",
       "      <td>1976</td>\n",
       "      <td>22</td>\n",
       "      <td>00</td>\n",
       "    </tr>\n",
       "    <tr>\n",
       "      <th>25</th>\n",
       "      <td>san antonio</td>\n",
       "      <td>4</td>\n",
       "      <td>30</td>\n",
       "      <td>29.4238889</td>\n",
       "      <td>-98.493333</td>\n",
       "      <td>10</td>\n",
       "      <td>10</td>\n",
       "      <td>1977</td>\n",
       "      <td>12</td>\n",
       "      <td>00</td>\n",
       "    </tr>\n",
       "    <tr>\n",
       "      <th>26</th>\n",
       "      <td>louisville</td>\n",
       "      <td>0</td>\n",
       "      <td>30</td>\n",
       "      <td>38.2541667</td>\n",
       "      <td>-85.759444</td>\n",
       "      <td>10</td>\n",
       "      <td>10</td>\n",
       "      <td>1977</td>\n",
       "      <td>22</td>\n",
       "      <td>00</td>\n",
       "    </tr>\n",
       "    <tr>\n",
       "      <th>27</th>\n",
       "      <td>elmont</td>\n",
       "      <td>13</td>\n",
       "      <td>300</td>\n",
       "      <td>40.7008333</td>\n",
       "      <td>-73.713333</td>\n",
       "      <td>10</td>\n",
       "      <td>10</td>\n",
       "      <td>1978</td>\n",
       "      <td>02</td>\n",
       "      <td>00</td>\n",
       "    </tr>\n",
       "    <tr>\n",
       "      <th>28</th>\n",
       "      <td>poughkeepsie</td>\n",
       "      <td>16</td>\n",
       "      <td>900</td>\n",
       "      <td>41.7002778</td>\n",
       "      <td>-73.921389</td>\n",
       "      <td>10</td>\n",
       "      <td>10</td>\n",
       "      <td>1979</td>\n",
       "      <td>00</td>\n",
       "      <td>00</td>\n",
       "    </tr>\n",
       "    <tr>\n",
       "      <th>29</th>\n",
       "      <td>saddle lake (canada)</td>\n",
       "      <td>1</td>\n",
       "      <td>270</td>\n",
       "      <td>53.970571</td>\n",
       "      <td>-111.689885</td>\n",
       "      <td>10</td>\n",
       "      <td>10</td>\n",
       "      <td>1979</td>\n",
       "      <td>22</td>\n",
       "      <td>00</td>\n",
       "    </tr>\n",
       "    <tr>\n",
       "      <th>30</th>\n",
       "      <td>san diego</td>\n",
       "      <td>8</td>\n",
       "      <td>180</td>\n",
       "      <td>32.7152778</td>\n",
       "      <td>-117.156389</td>\n",
       "      <td>10</td>\n",
       "      <td>10</td>\n",
       "      <td>1979</td>\n",
       "      <td>22</td>\n",
       "      <td>00</td>\n",
       "    </tr>\n",
       "    <tr>\n",
       "      <th>31</th>\n",
       "      <td>security</td>\n",
       "      <td>5</td>\n",
       "      <td>1800</td>\n",
       "      <td>38.7583333</td>\n",
       "      <td>-104.742500</td>\n",
       "      <td>10</td>\n",
       "      <td>10</td>\n",
       "      <td>1979</td>\n",
       "      <td>22</td>\n",
       "      <td>00</td>\n",
       "    </tr>\n",
       "    <tr>\n",
       "      <th>32</th>\n",
       "      <td>houston</td>\n",
       "      <td>6</td>\n",
       "      <td>180</td>\n",
       "      <td>29.7630556</td>\n",
       "      <td>-95.363056</td>\n",
       "      <td>10</td>\n",
       "      <td>10</td>\n",
       "      <td>1980</td>\n",
       "      <td>19</td>\n",
       "      <td>00</td>\n",
       "    </tr>\n",
       "    <tr>\n",
       "      <th>33</th>\n",
       "      <td>dallas</td>\n",
       "      <td>5</td>\n",
       "      <td>300</td>\n",
       "      <td>32.7833333</td>\n",
       "      <td>-96.800000</td>\n",
       "      <td>10</td>\n",
       "      <td>10</td>\n",
       "      <td>1980</td>\n",
       "      <td>22</td>\n",
       "      <td>00</td>\n",
       "    </tr>\n",
       "    <tr>\n",
       "      <th>34</th>\n",
       "      <td>manchester</td>\n",
       "      <td>0</td>\n",
       "      <td>300</td>\n",
       "      <td>42.9955556</td>\n",
       "      <td>-71.455278</td>\n",
       "      <td>10</td>\n",
       "      <td>10</td>\n",
       "      <td>1980</td>\n",
       "      <td>23</td>\n",
       "      <td>30</td>\n",
       "    </tr>\n",
       "    <tr>\n",
       "      <th>35</th>\n",
       "      <td>gisborne (new zealand)</td>\n",
       "      <td>7</td>\n",
       "      <td>120</td>\n",
       "      <td>-38.662334</td>\n",
       "      <td>178.017649</td>\n",
       "      <td>10</td>\n",
       "      <td>10</td>\n",
       "      <td>1982</td>\n",
       "      <td>07</td>\n",
       "      <td>00</td>\n",
       "    </tr>\n",
       "    <tr>\n",
       "      <th>36</th>\n",
       "      <td>houston</td>\n",
       "      <td>2</td>\n",
       "      <td>60</td>\n",
       "      <td>29.7630556</td>\n",
       "      <td>-95.363056</td>\n",
       "      <td>10</td>\n",
       "      <td>10</td>\n",
       "      <td>1984</td>\n",
       "      <td>05</td>\n",
       "      <td>00</td>\n",
       "    </tr>\n",
       "    <tr>\n",
       "      <th>37</th>\n",
       "      <td>traverse city</td>\n",
       "      <td>4</td>\n",
       "      <td>120</td>\n",
       "      <td>44.7630556</td>\n",
       "      <td>-85.620556</td>\n",
       "      <td>10</td>\n",
       "      <td>10</td>\n",
       "      <td>1984</td>\n",
       "      <td>12</td>\n",
       "      <td>00</td>\n",
       "    </tr>\n",
       "    <tr>\n",
       "      <th>38</th>\n",
       "      <td>white plains</td>\n",
       "      <td>9</td>\n",
       "      <td>20</td>\n",
       "      <td>41.0338889</td>\n",
       "      <td>-73.763333</td>\n",
       "      <td>10</td>\n",
       "      <td>10</td>\n",
       "      <td>1984</td>\n",
       "      <td>22</td>\n",
       "      <td>00</td>\n",
       "    </tr>\n",
       "    <tr>\n",
       "      <th>39</th>\n",
       "      <td>leeds (uk/england)</td>\n",
       "      <td>1</td>\n",
       "      <td>600</td>\n",
       "      <td>53.8</td>\n",
       "      <td>-1.583333</td>\n",
       "      <td>10</td>\n",
       "      <td>10</td>\n",
       "      <td>1985</td>\n",
       "      <td>20</td>\n",
       "      <td>25</td>\n",
       "    </tr>\n",
       "    <tr>\n",
       "      <th>40</th>\n",
       "      <td>holmes/pawling</td>\n",
       "      <td>16</td>\n",
       "      <td>180</td>\n",
       "      <td>41.523427</td>\n",
       "      <td>-73.646795</td>\n",
       "      <td>10</td>\n",
       "      <td>10</td>\n",
       "      <td>1986</td>\n",
       "      <td>20</td>\n",
       "      <td>00</td>\n",
       "    </tr>\n",
       "    <tr>\n",
       "      <th>41</th>\n",
       "      <td>milwaukee</td>\n",
       "      <td>1</td>\n",
       "      <td>600</td>\n",
       "      <td>43.0388889</td>\n",
       "      <td>-87.906389</td>\n",
       "      <td>10</td>\n",
       "      <td>10</td>\n",
       "      <td>1988</td>\n",
       "      <td>18</td>\n",
       "      <td>00</td>\n",
       "    </tr>\n",
       "    <tr>\n",
       "      <th>42</th>\n",
       "      <td>new gloucester</td>\n",
       "      <td>5</td>\n",
       "      <td>120</td>\n",
       "      <td>43.9627778</td>\n",
       "      <td>-70.283056</td>\n",
       "      <td>10</td>\n",
       "      <td>10</td>\n",
       "      <td>1988</td>\n",
       "      <td>21</td>\n",
       "      <td>00</td>\n",
       "    </tr>\n",
       "    <tr>\n",
       "      <th>43</th>\n",
       "      <td>boulder</td>\n",
       "      <td>0</td>\n",
       "      <td>60</td>\n",
       "      <td>40.0150000</td>\n",
       "      <td>-105.270000</td>\n",
       "      <td>10</td>\n",
       "      <td>10</td>\n",
       "      <td>1988</td>\n",
       "      <td>22</td>\n",
       "      <td>00</td>\n",
       "    </tr>\n",
       "    <tr>\n",
       "      <th>44</th>\n",
       "      <td>seattle (ballard area)</td>\n",
       "      <td>5</td>\n",
       "      <td>2</td>\n",
       "      <td>47.6063889</td>\n",
       "      <td>-122.330833</td>\n",
       "      <td>10</td>\n",
       "      <td>10</td>\n",
       "      <td>1988</td>\n",
       "      <td>22</td>\n",
       "      <td>45</td>\n",
       "    </tr>\n",
       "    <tr>\n",
       "      <th>45</th>\n",
       "      <td>calabasas</td>\n",
       "      <td>7</td>\n",
       "      <td>300</td>\n",
       "      <td>34.1577778</td>\n",
       "      <td>-118.637500</td>\n",
       "      <td>10</td>\n",
       "      <td>10</td>\n",
       "      <td>1989</td>\n",
       "      <td>00</td>\n",
       "      <td>00</td>\n",
       "    </tr>\n",
       "    <tr>\n",
       "      <th>46</th>\n",
       "      <td>centralia</td>\n",
       "      <td>1</td>\n",
       "      <td>60</td>\n",
       "      <td>46.7163889</td>\n",
       "      <td>-122.953056</td>\n",
       "      <td>10</td>\n",
       "      <td>10</td>\n",
       "      <td>1989</td>\n",
       "      <td>21</td>\n",
       "      <td>00</td>\n",
       "    </tr>\n",
       "    <tr>\n",
       "      <th>47</th>\n",
       "      <td>kranklin</td>\n",
       "      <td>1</td>\n",
       "      <td>180</td>\n",
       "      <td>36.722263</td>\n",
       "      <td>-86.577218</td>\n",
       "      <td>10</td>\n",
       "      <td>10</td>\n",
       "      <td>1989</td>\n",
       "      <td>21</td>\n",
       "      <td>00</td>\n",
       "    </tr>\n",
       "    <tr>\n",
       "      <th>48</th>\n",
       "      <td>ashburn</td>\n",
       "      <td>1</td>\n",
       "      <td>120</td>\n",
       "      <td>31.7058333</td>\n",
       "      <td>-83.653333</td>\n",
       "      <td>10</td>\n",
       "      <td>10</td>\n",
       "      <td>1990</td>\n",
       "      <td>21</td>\n",
       "      <td>00</td>\n",
       "    </tr>\n",
       "    <tr>\n",
       "      <th>49</th>\n",
       "      <td>frisco</td>\n",
       "      <td>5</td>\n",
       "      <td>1800</td>\n",
       "      <td>35.2350000</td>\n",
       "      <td>-75.628889</td>\n",
       "      <td>10</td>\n",
       "      <td>10</td>\n",
       "      <td>1991</td>\n",
       "      <td>22</td>\n",
       "      <td>00</td>\n",
       "    </tr>\n",
       "  </tbody>\n",
       "</table>\n",
       "</div>"
      ],
      "text/plain": [
       "                             city  shape duration (seconds)    latitude  \\\n",
       "0                      san marcos     14               2700  29.8830556   \n",
       "1                    lackland afb      0               7200    29.38421   \n",
       "2            chester (uk/england)      2                 20        53.2   \n",
       "3                            edna      2                 20  28.9783333   \n",
       "4                         kaneohe      0                900  21.4180556   \n",
       "5                         bristol      6                300  36.5950000   \n",
       "6              penarth (uk/wales)      2                180   51.434722   \n",
       "7                         norwalk      7               1200  41.1175000   \n",
       "8                       pell city      7                180  33.5861111   \n",
       "9                        live oak      7                120  30.2947222   \n",
       "10                      hawthorne      2                300  33.9163889   \n",
       "11                        brevard      3                180  35.2333333   \n",
       "12                       bellmore      7               1800  40.6686111   \n",
       "13                     manchester      5                180  37.1536111   \n",
       "14                      lexington      8                 30  35.8238889   \n",
       "15                  harlan county      2               1200  36.8430556   \n",
       "16                west bloomfield      7                120  42.5377778   \n",
       "17                        niantic      7               1800  41.3252778   \n",
       "18                    bermuda nas      0                 20   32.364167   \n",
       "19                         hudson      4               2700  42.3916667   \n",
       "20             cardiff (uk/wales)      7               1200        51.5   \n",
       "21                         hudson      0               1200  38.1055556   \n",
       "22               north charleston      0                360  32.8544444   \n",
       "23                      washougal      8                 60  45.5827778   \n",
       "24  stoke mandeville (uk/england)     10                  3   51.783333   \n",
       "25                    san antonio      4                 30  29.4238889   \n",
       "26                     louisville      0                 30  38.2541667   \n",
       "27                         elmont     13                300  40.7008333   \n",
       "28                   poughkeepsie     16                900  41.7002778   \n",
       "29           saddle lake (canada)      1                270   53.970571   \n",
       "30                      san diego      8                180  32.7152778   \n",
       "31                       security      5               1800  38.7583333   \n",
       "32                        houston      6                180  29.7630556   \n",
       "33                         dallas      5                300  32.7833333   \n",
       "34                     manchester      0                300  42.9955556   \n",
       "35         gisborne (new zealand)      7                120  -38.662334   \n",
       "36                        houston      2                 60  29.7630556   \n",
       "37                  traverse city      4                120  44.7630556   \n",
       "38                   white plains      9                 20  41.0338889   \n",
       "39             leeds (uk/england)      1                600        53.8   \n",
       "40                 holmes/pawling     16                180   41.523427   \n",
       "41                      milwaukee      1                600  43.0388889   \n",
       "42                 new gloucester      5                120  43.9627778   \n",
       "43                        boulder      0                 60  40.0150000   \n",
       "44         seattle (ballard area)      5                  2  47.6063889   \n",
       "45                      calabasas      7                300  34.1577778   \n",
       "46                      centralia      1                 60  46.7163889   \n",
       "47                       kranklin      1                180   36.722263   \n",
       "48                        ashburn      1                120  31.7058333   \n",
       "49                         frisco      5               1800  35.2350000   \n",
       "\n",
       "    longitude  month day  year hours minutes  \n",
       "0   -97.941111    10  10  1949    20      30  \n",
       "1   -98.581082    10  10  1949    21      00  \n",
       "2    -2.916667    10  10  1955    17      00  \n",
       "3   -96.645833    10  10  1956    21      00  \n",
       "4  -157.803611    10  10  1960    20      00  \n",
       "5   -82.188889    10  10  1961    19      00  \n",
       "6    -3.180000    10  10  1965    21      00  \n",
       "7   -73.408333    10  10  1965    23      45  \n",
       "8   -86.286111    10  10  1966    20      00  \n",
       "9   -82.984167    10  10  1966    21      00  \n",
       "10 -118.351667    10  10  1968    13      00  \n",
       "11  -82.734444    10  10  1968    19      00  \n",
       "12  -73.527500    10  10  1970    16      00  \n",
       "13  -83.761944    10  10  1970    19      00  \n",
       "14  -80.253611    10  10  1971    21      00  \n",
       "15  -83.321944    10  10  1972    19      00  \n",
       "16  -83.233056    10  10  1972    22      30  \n",
       "17  -72.193611    10  10  1973    19      00  \n",
       "18  -64.678611    10  10  1973    23      00  \n",
       "19  -71.566667    10  10  1974    19      30  \n",
       "20   -3.200000    10  10  1974    21      30  \n",
       "21  -98.659722    10  10  1974    23      00  \n",
       "22  -79.975000    10  10  1975    17      00  \n",
       "23 -122.352222    10  10  1976    20      30  \n",
       "24   -0.783333    10  10  1976    22      00  \n",
       "25  -98.493333    10  10  1977    12      00  \n",
       "26  -85.759444    10  10  1977    22      00  \n",
       "27  -73.713333    10  10  1978    02      00  \n",
       "28  -73.921389    10  10  1979    00      00  \n",
       "29 -111.689885    10  10  1979    22      00  \n",
       "30 -117.156389    10  10  1979    22      00  \n",
       "31 -104.742500    10  10  1979    22      00  \n",
       "32  -95.363056    10  10  1980    19      00  \n",
       "33  -96.800000    10  10  1980    22      00  \n",
       "34  -71.455278    10  10  1980    23      30  \n",
       "35  178.017649    10  10  1982    07      00  \n",
       "36  -95.363056    10  10  1984    05      00  \n",
       "37  -85.620556    10  10  1984    12      00  \n",
       "38  -73.763333    10  10  1984    22      00  \n",
       "39   -1.583333    10  10  1985    20      25  \n",
       "40  -73.646795    10  10  1986    20      00  \n",
       "41  -87.906389    10  10  1988    18      00  \n",
       "42  -70.283056    10  10  1988    21      00  \n",
       "43 -105.270000    10  10  1988    22      00  \n",
       "44 -122.330833    10  10  1988    22      45  \n",
       "45 -118.637500    10  10  1989    00      00  \n",
       "46 -122.953056    10  10  1989    21      00  \n",
       "47  -86.577218    10  10  1989    21      00  \n",
       "48  -83.653333    10  10  1990    21      00  \n",
       "49  -75.628889    10  10  1991    22      00  "
      ]
     },
     "execution_count": 36,
     "metadata": {},
     "output_type": "execute_result"
    }
   ],
   "source": [
    "data.head(50)"
   ]
  },
  {
   "cell_type": "code",
   "execution_count": 37,
   "metadata": {},
   "outputs": [],
   "source": [
    "city_lst = list(data['city'].value_counts().index)"
   ]
  },
  {
   "cell_type": "code",
   "execution_count": 38,
   "metadata": {},
   "outputs": [
    {
     "data": {
      "text/plain": [
       "19900"
      ]
     },
     "execution_count": 38,
     "metadata": {},
     "output_type": "execute_result"
    }
   ],
   "source": [
    "len(city_lst)"
   ]
  },
  {
   "cell_type": "code",
   "execution_count": 39,
   "metadata": {},
   "outputs": [],
   "source": [
    "def city_dummy(col):\n",
    "    return city_lst.index(col)"
   ]
  },
  {
   "cell_type": "code",
   "execution_count": 40,
   "metadata": {},
   "outputs": [],
   "source": [
    "data['city'] = data['city'].apply(city_dummy)"
   ]
  },
  {
   "cell_type": "code",
   "execution_count": 41,
   "metadata": {},
   "outputs": [
    {
     "data": {
      "text/html": [
       "<div>\n",
       "<style scoped>\n",
       "    .dataframe tbody tr th:only-of-type {\n",
       "        vertical-align: middle;\n",
       "    }\n",
       "\n",
       "    .dataframe tbody tr th {\n",
       "        vertical-align: top;\n",
       "    }\n",
       "\n",
       "    .dataframe thead th {\n",
       "        text-align: right;\n",
       "    }\n",
       "</style>\n",
       "<table border=\"1\" class=\"dataframe\">\n",
       "  <thead>\n",
       "    <tr style=\"text-align: right;\">\n",
       "      <th></th>\n",
       "      <th>city</th>\n",
       "      <th>shape</th>\n",
       "      <th>duration (seconds)</th>\n",
       "      <th>latitude</th>\n",
       "      <th>longitude</th>\n",
       "      <th>month</th>\n",
       "      <th>day</th>\n",
       "      <th>year</th>\n",
       "      <th>hours</th>\n",
       "      <th>minutes</th>\n",
       "    </tr>\n",
       "  </thead>\n",
       "  <tbody>\n",
       "    <tr>\n",
       "      <th>0</th>\n",
       "      <td>308</td>\n",
       "      <td>14</td>\n",
       "      <td>2700</td>\n",
       "      <td>29.8830556</td>\n",
       "      <td>-97.941111</td>\n",
       "      <td>10</td>\n",
       "      <td>10</td>\n",
       "      <td>1949</td>\n",
       "      <td>20</td>\n",
       "      <td>30</td>\n",
       "    </tr>\n",
       "    <tr>\n",
       "      <th>1</th>\n",
       "      <td>13316</td>\n",
       "      <td>0</td>\n",
       "      <td>7200</td>\n",
       "      <td>29.38421</td>\n",
       "      <td>-98.581082</td>\n",
       "      <td>10</td>\n",
       "      <td>10</td>\n",
       "      <td>1949</td>\n",
       "      <td>21</td>\n",
       "      <td>00</td>\n",
       "    </tr>\n",
       "    <tr>\n",
       "      <th>2</th>\n",
       "      <td>4576</td>\n",
       "      <td>2</td>\n",
       "      <td>20</td>\n",
       "      <td>53.2</td>\n",
       "      <td>-2.916667</td>\n",
       "      <td>10</td>\n",
       "      <td>10</td>\n",
       "      <td>1955</td>\n",
       "      <td>17</td>\n",
       "      <td>00</td>\n",
       "    </tr>\n",
       "    <tr>\n",
       "      <th>3</th>\n",
       "      <td>4592</td>\n",
       "      <td>2</td>\n",
       "      <td>20</td>\n",
       "      <td>28.9783333</td>\n",
       "      <td>-96.645833</td>\n",
       "      <td>10</td>\n",
       "      <td>10</td>\n",
       "      <td>1956</td>\n",
       "      <td>21</td>\n",
       "      <td>00</td>\n",
       "    </tr>\n",
       "    <tr>\n",
       "      <th>4</th>\n",
       "      <td>1297</td>\n",
       "      <td>0</td>\n",
       "      <td>900</td>\n",
       "      <td>21.4180556</td>\n",
       "      <td>-157.803611</td>\n",
       "      <td>10</td>\n",
       "      <td>10</td>\n",
       "      <td>1960</td>\n",
       "      <td>20</td>\n",
       "      <td>00</td>\n",
       "    </tr>\n",
       "    <tr>\n",
       "      <th>5</th>\n",
       "      <td>118</td>\n",
       "      <td>6</td>\n",
       "      <td>300</td>\n",
       "      <td>36.5950000</td>\n",
       "      <td>-82.188889</td>\n",
       "      <td>10</td>\n",
       "      <td>10</td>\n",
       "      <td>1961</td>\n",
       "      <td>19</td>\n",
       "      <td>00</td>\n",
       "    </tr>\n",
       "    <tr>\n",
       "      <th>6</th>\n",
       "      <td>18392</td>\n",
       "      <td>2</td>\n",
       "      <td>180</td>\n",
       "      <td>51.434722</td>\n",
       "      <td>-3.180000</td>\n",
       "      <td>10</td>\n",
       "      <td>10</td>\n",
       "      <td>1965</td>\n",
       "      <td>21</td>\n",
       "      <td>00</td>\n",
       "    </tr>\n",
       "    <tr>\n",
       "      <th>7</th>\n",
       "      <td>189</td>\n",
       "      <td>7</td>\n",
       "      <td>1200</td>\n",
       "      <td>41.1175000</td>\n",
       "      <td>-73.408333</td>\n",
       "      <td>10</td>\n",
       "      <td>10</td>\n",
       "      <td>1965</td>\n",
       "      <td>23</td>\n",
       "      <td>45</td>\n",
       "    </tr>\n",
       "    <tr>\n",
       "      <th>8</th>\n",
       "      <td>3476</td>\n",
       "      <td>7</td>\n",
       "      <td>180</td>\n",
       "      <td>33.5861111</td>\n",
       "      <td>-86.286111</td>\n",
       "      <td>10</td>\n",
       "      <td>10</td>\n",
       "      <td>1966</td>\n",
       "      <td>20</td>\n",
       "      <td>00</td>\n",
       "    </tr>\n",
       "    <tr>\n",
       "      <th>9</th>\n",
       "      <td>1955</td>\n",
       "      <td>7</td>\n",
       "      <td>120</td>\n",
       "      <td>30.2947222</td>\n",
       "      <td>-82.984167</td>\n",
       "      <td>10</td>\n",
       "      <td>10</td>\n",
       "      <td>1966</td>\n",
       "      <td>21</td>\n",
       "      <td>00</td>\n",
       "    </tr>\n",
       "    <tr>\n",
       "      <th>10</th>\n",
       "      <td>1066</td>\n",
       "      <td>2</td>\n",
       "      <td>300</td>\n",
       "      <td>33.9163889</td>\n",
       "      <td>-118.351667</td>\n",
       "      <td>10</td>\n",
       "      <td>10</td>\n",
       "      <td>1968</td>\n",
       "      <td>13</td>\n",
       "      <td>00</td>\n",
       "    </tr>\n",
       "    <tr>\n",
       "      <th>11</th>\n",
       "      <td>3774</td>\n",
       "      <td>3</td>\n",
       "      <td>180</td>\n",
       "      <td>35.2333333</td>\n",
       "      <td>-82.734444</td>\n",
       "      <td>10</td>\n",
       "      <td>10</td>\n",
       "      <td>1968</td>\n",
       "      <td>19</td>\n",
       "      <td>00</td>\n",
       "    </tr>\n",
       "    <tr>\n",
       "      <th>12</th>\n",
       "      <td>4614</td>\n",
       "      <td>7</td>\n",
       "      <td>1800</td>\n",
       "      <td>40.6686111</td>\n",
       "      <td>-73.527500</td>\n",
       "      <td>10</td>\n",
       "      <td>10</td>\n",
       "      <td>1970</td>\n",
       "      <td>16</td>\n",
       "      <td>00</td>\n",
       "    </tr>\n",
       "    <tr>\n",
       "      <th>13</th>\n",
       "      <td>107</td>\n",
       "      <td>5</td>\n",
       "      <td>180</td>\n",
       "      <td>37.1536111</td>\n",
       "      <td>-83.761944</td>\n",
       "      <td>10</td>\n",
       "      <td>10</td>\n",
       "      <td>1970</td>\n",
       "      <td>19</td>\n",
       "      <td>00</td>\n",
       "    </tr>\n",
       "    <tr>\n",
       "      <th>14</th>\n",
       "      <td>64</td>\n",
       "      <td>8</td>\n",
       "      <td>30</td>\n",
       "      <td>35.8238889</td>\n",
       "      <td>-80.253611</td>\n",
       "      <td>10</td>\n",
       "      <td>10</td>\n",
       "      <td>1971</td>\n",
       "      <td>21</td>\n",
       "      <td>00</td>\n",
       "    </tr>\n",
       "    <tr>\n",
       "      <th>15</th>\n",
       "      <td>17523</td>\n",
       "      <td>2</td>\n",
       "      <td>1200</td>\n",
       "      <td>36.8430556</td>\n",
       "      <td>-83.321944</td>\n",
       "      <td>10</td>\n",
       "      <td>10</td>\n",
       "      <td>1972</td>\n",
       "      <td>19</td>\n",
       "      <td>00</td>\n",
       "    </tr>\n",
       "    <tr>\n",
       "      <th>16</th>\n",
       "      <td>1229</td>\n",
       "      <td>7</td>\n",
       "      <td>120</td>\n",
       "      <td>42.5377778</td>\n",
       "      <td>-83.233056</td>\n",
       "      <td>10</td>\n",
       "      <td>10</td>\n",
       "      <td>1972</td>\n",
       "      <td>22</td>\n",
       "      <td>30</td>\n",
       "    </tr>\n",
       "    <tr>\n",
       "      <th>17</th>\n",
       "      <td>2726</td>\n",
       "      <td>7</td>\n",
       "      <td>1800</td>\n",
       "      <td>41.3252778</td>\n",
       "      <td>-72.193611</td>\n",
       "      <td>10</td>\n",
       "      <td>10</td>\n",
       "      <td>1973</td>\n",
       "      <td>19</td>\n",
       "      <td>00</td>\n",
       "    </tr>\n",
       "    <tr>\n",
       "      <th>18</th>\n",
       "      <td>9151</td>\n",
       "      <td>0</td>\n",
       "      <td>20</td>\n",
       "      <td>32.364167</td>\n",
       "      <td>-64.678611</td>\n",
       "      <td>10</td>\n",
       "      <td>10</td>\n",
       "      <td>1973</td>\n",
       "      <td>23</td>\n",
       "      <td>00</td>\n",
       "    </tr>\n",
       "    <tr>\n",
       "      <th>19</th>\n",
       "      <td>237</td>\n",
       "      <td>4</td>\n",
       "      <td>2700</td>\n",
       "      <td>42.3916667</td>\n",
       "      <td>-71.566667</td>\n",
       "      <td>10</td>\n",
       "      <td>10</td>\n",
       "      <td>1974</td>\n",
       "      <td>19</td>\n",
       "      <td>30</td>\n",
       "    </tr>\n",
       "  </tbody>\n",
       "</table>\n",
       "</div>"
      ],
      "text/plain": [
       "     city  shape duration (seconds)    latitude  longitude  month day  year  \\\n",
       "0     308     14               2700  29.8830556  -97.941111    10  10  1949   \n",
       "1   13316      0               7200    29.38421  -98.581082    10  10  1949   \n",
       "2    4576      2                 20        53.2   -2.916667    10  10  1955   \n",
       "3    4592      2                 20  28.9783333  -96.645833    10  10  1956   \n",
       "4    1297      0                900  21.4180556 -157.803611    10  10  1960   \n",
       "5     118      6                300  36.5950000  -82.188889    10  10  1961   \n",
       "6   18392      2                180   51.434722   -3.180000    10  10  1965   \n",
       "7     189      7               1200  41.1175000  -73.408333    10  10  1965   \n",
       "8    3476      7                180  33.5861111  -86.286111    10  10  1966   \n",
       "9    1955      7                120  30.2947222  -82.984167    10  10  1966   \n",
       "10   1066      2                300  33.9163889 -118.351667    10  10  1968   \n",
       "11   3774      3                180  35.2333333  -82.734444    10  10  1968   \n",
       "12   4614      7               1800  40.6686111  -73.527500    10  10  1970   \n",
       "13    107      5                180  37.1536111  -83.761944    10  10  1970   \n",
       "14     64      8                 30  35.8238889  -80.253611    10  10  1971   \n",
       "15  17523      2               1200  36.8430556  -83.321944    10  10  1972   \n",
       "16   1229      7                120  42.5377778  -83.233056    10  10  1972   \n",
       "17   2726      7               1800  41.3252778  -72.193611    10  10  1973   \n",
       "18   9151      0                 20   32.364167  -64.678611    10  10  1973   \n",
       "19    237      4               2700  42.3916667  -71.566667    10  10  1974   \n",
       "\n",
       "   hours minutes  \n",
       "0     20      30  \n",
       "1     21      00  \n",
       "2     17      00  \n",
       "3     21      00  \n",
       "4     20      00  \n",
       "5     19      00  \n",
       "6     21      00  \n",
       "7     23      45  \n",
       "8     20      00  \n",
       "9     21      00  \n",
       "10    13      00  \n",
       "11    19      00  \n",
       "12    16      00  \n",
       "13    19      00  \n",
       "14    21      00  \n",
       "15    19      00  \n",
       "16    22      30  \n",
       "17    19      00  \n",
       "18    23      00  \n",
       "19    19      30  "
      ]
     },
     "execution_count": 41,
     "metadata": {},
     "output_type": "execute_result"
    }
   ],
   "source": [
    "data.head(20)"
   ]
  },
  {
   "cell_type": "code",
   "execution_count": 42,
   "metadata": {},
   "outputs": [
    {
     "data": {
      "text/plain": [
       "dtype('O')"
      ]
     },
     "execution_count": 42,
     "metadata": {},
     "output_type": "execute_result"
    }
   ],
   "source": [
    "data['latitude'].dtype"
   ]
  },
  {
   "cell_type": "code",
   "execution_count": 43,
   "metadata": {},
   "outputs": [],
   "source": [
    "data.columns = ['city', 'shape', 'duration (seconds)', 'latitude', 'longitude',\n",
    "       'month', 'day', 'year', 'hours', 'minutes']"
   ]
  },
  {
   "cell_type": "code",
   "execution_count": 44,
   "metadata": {},
   "outputs": [],
   "source": [
    "data['latitude'] = pd.to_numeric(data['latitude'],errors='coerce')"
   ]
  },
  {
   "cell_type": "code",
   "execution_count": 45,
   "metadata": {},
   "outputs": [],
   "source": [
    "data['longitude'] = pd.to_numeric(data['longitude'],errors='coerce')"
   ]
  },
  {
   "cell_type": "code",
   "execution_count": 46,
   "metadata": {},
   "outputs": [
    {
     "data": {
      "text/plain": [
       "<matplotlib.axes._subplots.AxesSubplot at 0x2109bacccc0>"
      ]
     },
     "execution_count": 46,
     "metadata": {},
     "output_type": "execute_result"
    },
    {
     "data": {
      "image/png": "[encoded data removed]",
      "text/plain": [
       "<Figure size 432x288 with 2 Axes>"
      ]
     },
     "metadata": {
      "needs_background": "light"
     },
     "output_type": "display_data"
    }
   ],
   "source": [
    "sns.heatmap(data.isnull())"
   ]
  },
  {
   "cell_type": "code",
   "execution_count": 47,
   "metadata": {},
   "outputs": [],
   "source": [
    "data.dropna(inplace=True)"
   ]
  },
  {
   "cell_type": "code",
   "execution_count": 48,
   "metadata": {},
   "outputs": [
    {
     "data": {
      "text/plain": [
       "<matplotlib.axes._subplots.AxesSubplot at 0x2109bec6940>"
      ]
     },
     "execution_count": 48,
     "metadata": {},
     "output_type": "execute_result"
    },
    {
     "data": {
      "image/png": "[encoded data removed]",
      "text/plain": [
       "<Figure size 432x288 with 2 Axes>"
      ]
     },
     "metadata": {
      "needs_background": "light"
     },
     "output_type": "display_data"
    }
   ],
   "source": [
    "sns.heatmap(data.isnull())"
   ]
  },
  {
   "cell_type": "code",
   "execution_count": 61,
   "metadata": {},
   "outputs": [],
   "source": [
    "def duration_string_clean(col):\n",
    "    return col.replace('`','')"
   ]
  },
  {
   "cell_type": "code",
   "execution_count": 62,
   "metadata": {},
   "outputs": [],
   "source": [
    "data['duration (seconds)'] = data['duration (seconds)'].apply(duration_string_clean)"
   ]
  },
  {
   "cell_type": "code",
   "execution_count": 63,
   "metadata": {},
   "outputs": [],
   "source": [
    "data['duration (seconds)'] = data['duration (seconds)'].astype(float)"
   ]
  },
  {
   "cell_type": "code",
   "execution_count": 64,
   "metadata": {},
   "outputs": [
    {
     "data": {
      "text/plain": [
       "city                    int64\n",
       "shape                   int64\n",
       "duration (seconds)    float64\n",
       "latitude              float64\n",
       "longitude             float64\n",
       "month                  object\n",
       "day                    object\n",
       "year                   object\n",
       "hours                  object\n",
       "minutes                object\n",
       "dtype: object"
      ]
     },
     "execution_count": 64,
     "metadata": {},
     "output_type": "execute_result"
    }
   ],
   "source": [
    "data.dtypes"
   ]
  },
  {
   "cell_type": "code",
   "execution_count": 65,
   "metadata": {},
   "outputs": [
    {
     "data": {
      "text/plain": [
       "(80331, 10)"
      ]
     },
     "execution_count": 65,
     "metadata": {},
     "output_type": "execute_result"
    }
   ],
   "source": [
    "data.shape"
   ]
  },
  {
   "cell_type": "markdown",
   "metadata": {},
   "source": [
    "## Train Test Split"
   ]
  },
  {
   "cell_type": "markdown",
   "metadata": {},
   "source": [
    "### For two dependent variables, we create two splits each for latitude and longitude"
   ]
  },
  {
   "cell_type": "code",
   "execution_count": 66,
   "metadata": {},
   "outputs": [],
   "source": [
    "from sklearn.model_selection import train_test_split"
   ]
  },
  {
   "cell_type": "code",
   "execution_count": 67,
   "metadata": {},
   "outputs": [
    {
     "data": {
      "text/html": [
       "<div>\n",
       "<style scoped>\n",
       "    .dataframe tbody tr th:only-of-type {\n",
       "        vertical-align: middle;\n",
       "    }\n",
       "\n",
       "    .dataframe tbody tr th {\n",
       "        vertical-align: top;\n",
       "    }\n",
       "\n",
       "    .dataframe thead th {\n",
       "        text-align: right;\n",
       "    }\n",
       "</style>\n",
       "<table border=\"1\" class=\"dataframe\">\n",
       "  <thead>\n",
       "    <tr style=\"text-align: right;\">\n",
       "      <th></th>\n",
       "      <th>city</th>\n",
       "      <th>shape</th>\n",
       "      <th>duration (seconds)</th>\n",
       "      <th>latitude</th>\n",
       "      <th>longitude</th>\n",
       "      <th>month</th>\n",
       "      <th>day</th>\n",
       "      <th>year</th>\n",
       "      <th>hours</th>\n",
       "      <th>minutes</th>\n",
       "    </tr>\n",
       "  </thead>\n",
       "  <tbody>\n",
       "    <tr>\n",
       "      <th>0</th>\n",
       "      <td>308</td>\n",
       "      <td>14</td>\n",
       "      <td>2700.0</td>\n",
       "      <td>29.883056</td>\n",
       "      <td>-97.941111</td>\n",
       "      <td>10</td>\n",
       "      <td>10</td>\n",
       "      <td>1949</td>\n",
       "      <td>20</td>\n",
       "      <td>30</td>\n",
       "    </tr>\n",
       "    <tr>\n",
       "      <th>1</th>\n",
       "      <td>13316</td>\n",
       "      <td>0</td>\n",
       "      <td>7200.0</td>\n",
       "      <td>29.384210</td>\n",
       "      <td>-98.581082</td>\n",
       "      <td>10</td>\n",
       "      <td>10</td>\n",
       "      <td>1949</td>\n",
       "      <td>21</td>\n",
       "      <td>00</td>\n",
       "    </tr>\n",
       "    <tr>\n",
       "      <th>2</th>\n",
       "      <td>4576</td>\n",
       "      <td>2</td>\n",
       "      <td>20.0</td>\n",
       "      <td>53.200000</td>\n",
       "      <td>-2.916667</td>\n",
       "      <td>10</td>\n",
       "      <td>10</td>\n",
       "      <td>1955</td>\n",
       "      <td>17</td>\n",
       "      <td>00</td>\n",
       "    </tr>\n",
       "    <tr>\n",
       "      <th>3</th>\n",
       "      <td>4592</td>\n",
       "      <td>2</td>\n",
       "      <td>20.0</td>\n",
       "      <td>28.978333</td>\n",
       "      <td>-96.645833</td>\n",
       "      <td>10</td>\n",
       "      <td>10</td>\n",
       "      <td>1956</td>\n",
       "      <td>21</td>\n",
       "      <td>00</td>\n",
       "    </tr>\n",
       "    <tr>\n",
       "      <th>4</th>\n",
       "      <td>1297</td>\n",
       "      <td>0</td>\n",
       "      <td>900.0</td>\n",
       "      <td>21.418056</td>\n",
       "      <td>-157.803611</td>\n",
       "      <td>10</td>\n",
       "      <td>10</td>\n",
       "      <td>1960</td>\n",
       "      <td>20</td>\n",
       "      <td>00</td>\n",
       "    </tr>\n",
       "  </tbody>\n",
       "</table>\n",
       "</div>"
      ],
      "text/plain": [
       "    city  shape  duration (seconds)   latitude   longitude month day  year  \\\n",
       "0    308     14              2700.0  29.883056  -97.941111    10  10  1949   \n",
       "1  13316      0              7200.0  29.384210  -98.581082    10  10  1949   \n",
       "2   4576      2                20.0  53.200000   -2.916667    10  10  1955   \n",
       "3   4592      2                20.0  28.978333  -96.645833    10  10  1956   \n",
       "4   1297      0               900.0  21.418056 -157.803611    10  10  1960   \n",
       "\n",
       "  hours minutes  \n",
       "0    20      30  \n",
       "1    21      00  \n",
       "2    17      00  \n",
       "3    21      00  \n",
       "4    20      00  "
      ]
     },
     "execution_count": 67,
     "metadata": {},
     "output_type": "execute_result"
    }
   ],
   "source": [
    "data.head()"
   ]
  },
  {
   "cell_type": "code",
   "execution_count": 68,
   "metadata": {},
   "outputs": [],
   "source": [
    "X = data.drop(['latitude','longitude'],axis=1)"
   ]
  },
  {
   "cell_type": "code",
   "execution_count": 69,
   "metadata": {},
   "outputs": [],
   "source": [
    "y_lat = data['latitude']\n",
    "y_long = data['longitude']"
   ]
  },
  {
   "cell_type": "code",
   "execution_count": 70,
   "metadata": {},
   "outputs": [],
   "source": [
    "X_train,X_test,y_train_lat,y_test_lat = train_test_split(X,y_lat,test_size=0.3,random_state=100)"
   ]
  },
  {
   "cell_type": "code",
   "execution_count": 71,
   "metadata": {},
   "outputs": [],
   "source": [
    "X_train,X_test,y_train_long,y_test_long = train_test_split(X,y_long,test_size=0.3,random_state=100)"
   ]
  },
  {
   "cell_type": "code",
   "execution_count": 72,
   "metadata": {},
   "outputs": [
    {
     "data": {
      "text/plain": [
       "(56231, 8)"
      ]
     },
     "execution_count": 72,
     "metadata": {},
     "output_type": "execute_result"
    }
   ],
   "source": [
    "X_train.shape"
   ]
  },
  {
   "cell_type": "code",
   "execution_count": 73,
   "metadata": {},
   "outputs": [
    {
     "data": {
      "text/plain": [
       "((56231,), (24100,), (56231,), (24100,))"
      ]
     },
     "execution_count": 73,
     "metadata": {},
     "output_type": "execute_result"
    }
   ],
   "source": [
    "y_train_lat.shape,y_test_lat.shape,y_train_long.shape,y_test_long.shape"
   ]
  },
  {
   "cell_type": "markdown",
   "metadata": {},
   "source": [
    "# Machine Learning"
   ]
  },
  {
   "cell_type": "markdown",
   "metadata": {},
   "source": [
    "## Linear Regression"
   ]
  },
  {
   "cell_type": "code",
   "execution_count": 93,
   "metadata": {},
   "outputs": [],
   "source": [
    "from sklearn.linear_model import LinearRegression\n",
    "from sklearn.metrics import mean_squared_error,mean_absolute_error,r2_score"
   ]
  },
  {
   "cell_type": "code",
   "execution_count": 76,
   "metadata": {},
   "outputs": [],
   "source": [
    "lr_lat = LinearRegression()"
   ]
  },
  {
   "cell_type": "code",
   "execution_count": 77,
   "metadata": {},
   "outputs": [],
   "source": [
    "lr_long = LinearRegression()"
   ]
  },
  {
   "cell_type": "code",
   "execution_count": 78,
   "metadata": {},
   "outputs": [
    {
     "data": {
      "text/plain": [
       "LinearRegression(copy_X=True, fit_intercept=True, n_jobs=None, normalize=False)"
      ]
     },
     "execution_count": 78,
     "metadata": {},
     "output_type": "execute_result"
    }
   ],
   "source": [
    "lr_lat.fit(X_train,y_train_lat)"
   ]
  },
  {
   "cell_type": "code",
   "execution_count": 79,
   "metadata": {},
   "outputs": [
    {
     "data": {
      "text/plain": [
       "LinearRegression(copy_X=True, fit_intercept=True, n_jobs=None, normalize=False)"
      ]
     },
     "execution_count": 79,
     "metadata": {},
     "output_type": "execute_result"
    }
   ],
   "source": [
    "lr_long.fit(X_train,y_train_long)"
   ]
  },
  {
   "cell_type": "code",
   "execution_count": 80,
   "metadata": {},
   "outputs": [],
   "source": [
    "pred1_lat = lr_lat.predict(X_test)"
   ]
  },
  {
   "cell_type": "code",
   "execution_count": 82,
   "metadata": {},
   "outputs": [],
   "source": [
    "pred1_long = lr_long.predict(X_test)"
   ]
  },
  {
   "cell_type": "markdown",
   "metadata": {},
   "source": [
    "## Linear Regression Evaluation"
   ]
  },
  {
   "cell_type": "code",
   "execution_count": 84,
   "metadata": {},
   "outputs": [
    {
     "name": "stdout",
     "output_type": "stream",
     "text": [
      "6.133590581653456\n"
     ]
    }
   ],
   "source": [
    "print(mean_absolute_error(y_test_lat,pred1_lat))"
   ]
  },
  {
   "cell_type": "code",
   "execution_count": 85,
   "metadata": {},
   "outputs": [
    {
     "name": "stdout",
     "output_type": "stream",
     "text": [
      "23.0827787542819\n"
     ]
    }
   ],
   "source": [
    "print(mean_absolute_error(y_test_long,pred1_long))"
   ]
  },
  {
   "cell_type": "code",
   "execution_count": 86,
   "metadata": {},
   "outputs": [
    {
     "name": "stdout",
     "output_type": "stream",
     "text": [
      "109.19508326367946\n"
     ]
    }
   ],
   "source": [
    "print(mean_squared_error(y_test_lat,pred1_lat))"
   ]
  },
  {
   "cell_type": "code",
   "execution_count": 103,
   "metadata": {},
   "outputs": [
    {
     "name": "stdout",
     "output_type": "stream",
     "text": [
      "1495.9725384896276\n"
     ]
    }
   ],
   "source": [
    "print(mean_squared_error(y_test_long,pred1_long))"
   ]
  },
  {
   "cell_type": "code",
   "execution_count": 88,
   "metadata": {},
   "outputs": [
    {
     "name": "stdout",
     "output_type": "stream",
     "text": [
      "0.001383037888643468\n"
     ]
    }
   ],
   "source": [
    "print(r2_score(y_test_lat,pred1_lat))"
   ]
  },
  {
   "cell_type": "code",
   "execution_count": 104,
   "metadata": {},
   "outputs": [
    {
     "name": "stdout",
     "output_type": "stream",
     "text": [
      "0.045375393943912656\n"
     ]
    }
   ],
   "source": [
    "print(r2_score(y_test_long,pred1_long))"
   ]
  },
  {
   "cell_type": "markdown",
   "metadata": {},
   "source": [
    "## Decision Tree Regression"
   ]
  },
  {
   "cell_type": "code",
   "execution_count": 94,
   "metadata": {},
   "outputs": [],
   "source": [
    "from sklearn.tree import DecisionTreeRegressor"
   ]
  },
  {
   "cell_type": "code",
   "execution_count": 95,
   "metadata": {},
   "outputs": [],
   "source": [
    "dtree_lat = DecisionTreeRegressor()"
   ]
  },
  {
   "cell_type": "code",
   "execution_count": 96,
   "metadata": {},
   "outputs": [],
   "source": [
    "dtree_long = DecisionTreeRegressor()"
   ]
  },
  {
   "cell_type": "code",
   "execution_count": 97,
   "metadata": {},
   "outputs": [
    {
     "data": {
      "text/plain": [
       "DecisionTreeRegressor(criterion='mse', max_depth=None, max_features=None,\n",
       "                      max_leaf_nodes=None, min_impurity_decrease=0.0,\n",
       "                      min_impurity_split=None, min_samples_leaf=1,\n",
       "                      min_samples_split=2, min_weight_fraction_leaf=0.0,\n",
       "                      presort=False, random_state=None, splitter='best')"
      ]
     },
     "execution_count": 97,
     "metadata": {},
     "output_type": "execute_result"
    }
   ],
   "source": [
    "dtree_lat.fit(X_train,y_train_lat)"
   ]
  },
  {
   "cell_type": "code",
   "execution_count": 98,
   "metadata": {},
   "outputs": [
    {
     "data": {
      "text/plain": [
       "DecisionTreeRegressor(criterion='mse', max_depth=None, max_features=None,\n",
       "                      max_leaf_nodes=None, min_impurity_decrease=0.0,\n",
       "                      min_impurity_split=None, min_samples_leaf=1,\n",
       "                      min_samples_split=2, min_weight_fraction_leaf=0.0,\n",
       "                      presort=False, random_state=None, splitter='best')"
      ]
     },
     "execution_count": 98,
     "metadata": {},
     "output_type": "execute_result"
    }
   ],
   "source": [
    "dtree_long.fit(X_train,y_train_long)"
   ]
  },
  {
   "cell_type": "code",
   "execution_count": 99,
   "metadata": {},
   "outputs": [],
   "source": [
    "pred2_lat = dtree_lat.predict(X_test)"
   ]
  },
  {
   "cell_type": "code",
   "execution_count": 100,
   "metadata": {},
   "outputs": [],
   "source": [
    "pred2_long = dtree_long.predict(X_test)"
   ]
  },
  {
   "cell_type": "markdown",
   "metadata": {},
   "source": [
    "## Decision Tree Evaluation"
   ]
  },
  {
   "cell_type": "code",
   "execution_count": 101,
   "metadata": {},
   "outputs": [
    {
     "name": "stdout",
     "output_type": "stream",
     "text": [
      "6.722156965585253\n"
     ]
    }
   ],
   "source": [
    "print(mean_absolute_error(y_test_lat,pred2_lat))"
   ]
  },
  {
   "cell_type": "code",
   "execution_count": 102,
   "metadata": {},
   "outputs": [
    {
     "name": "stdout",
     "output_type": "stream",
     "text": [
      "20.106796665203984\n"
     ]
    }
   ],
   "source": [
    "print(mean_absolute_error(y_test_lat,pred2_lat))"
   ]
  },
  {
   "cell_type": "code",
   "execution_count": 105,
   "metadata": {},
   "outputs": [
    {
     "name": "stdout",
     "output_type": "stream",
     "text": [
      "182.4700967599151\n"
     ]
    }
   ],
   "source": [
    "print(mean_squared_error(y_test_lat,pred2_lat))"
   ]
  },
  {
   "cell_type": "code",
   "execution_count": 107,
   "metadata": {},
   "outputs": [
    {
     "name": "stdout",
     "output_type": "stream",
     "text": [
      "1973.9484509874956\n"
     ]
    }
   ],
   "source": [
    "print(mean_squared_error(y_test_long,pred2_long))"
   ]
  },
  {
   "cell_type": "code",
   "execution_count": 108,
   "metadata": {},
   "outputs": [
    {
     "name": "stdout",
     "output_type": "stream",
     "text": [
      "-0.66873569996316\n"
     ]
    }
   ],
   "source": [
    "print(r2_score(y_test_lat,pred2_lat))"
   ]
  },
  {
   "cell_type": "code",
   "execution_count": 109,
   "metadata": {},
   "outputs": [
    {
     "name": "stdout",
     "output_type": "stream",
     "text": [
      "-0.25963526329265374\n"
     ]
    }
   ],
   "source": [
    "print(r2_score(y_test_long,pred2_long))"
   ]
  },
  {
   "cell_type": "markdown",
   "metadata": {},
   "source": [
    "## Random Forest Regression"
   ]
  },
  {
   "cell_type": "code",
   "execution_count": 110,
   "metadata": {},
   "outputs": [],
   "source": [
    "from sklearn.ensemble import RandomForestRegressor"
   ]
  },
  {
   "cell_type": "code",
   "execution_count": 111,
   "metadata": {},
   "outputs": [],
   "source": [
    "rf_lat = RandomForestRegressor()"
   ]
  },
  {
   "cell_type": "code",
   "execution_count": 112,
   "metadata": {},
   "outputs": [],
   "source": [
    "rf_long = RandomForestRegressor()"
   ]
  },
  {
   "cell_type": "code",
   "execution_count": 113,
   "metadata": {},
   "outputs": [
    {
     "name": "stderr",
     "output_type": "stream",
     "text": [
      "C:\\Users\\LiveWire\\Anaconda3\\lib\\site-packages\\sklearn\\ensemble\\forest.py:245: FutureWarning: The default value of n_estimators will change from 10 in version 0.20 to 100 in 0.22.\n",
      "  \"10 in version 0.20 to 100 in 0.22.\", FutureWarning)\n"
     ]
    },
    {
     "data": {
      "text/plain": [
       "RandomForestRegressor(bootstrap=True, criterion='mse', max_depth=None,\n",
       "                      max_features='auto', max_leaf_nodes=None,\n",
       "                      min_impurity_decrease=0.0, min_impurity_split=None,\n",
       "                      min_samples_leaf=1, min_samples_split=2,\n",
       "                      min_weight_fraction_leaf=0.0, n_estimators=10,\n",
       "                      n_jobs=None, oob_score=False, random_state=None,\n",
       "                      verbose=0, warm_start=False)"
      ]
     },
     "execution_count": 113,
     "metadata": {},
     "output_type": "execute_result"
    }
   ],
   "source": [
    "rf_lat.fit(X_train,y_train_lat)"
   ]
  },
  {
   "cell_type": "code",
   "execution_count": 114,
   "metadata": {},
   "outputs": [
    {
     "name": "stderr",
     "output_type": "stream",
     "text": [
      "C:\\Users\\LiveWire\\Anaconda3\\lib\\site-packages\\sklearn\\ensemble\\forest.py:245: FutureWarning: The default value of n_estimators will change from 10 in version 0.20 to 100 in 0.22.\n",
      "  \"10 in version 0.20 to 100 in 0.22.\", FutureWarning)\n"
     ]
    },
    {
     "data": {
      "text/plain": [
       "RandomForestRegressor(bootstrap=True, criterion='mse', max_depth=None,\n",
       "                      max_features='auto', max_leaf_nodes=None,\n",
       "                      min_impurity_decrease=0.0, min_impurity_split=None,\n",
       "                      min_samples_leaf=1, min_samples_split=2,\n",
       "                      min_weight_fraction_leaf=0.0, n_estimators=10,\n",
       "                      n_jobs=None, oob_score=False, random_state=None,\n",
       "                      verbose=0, warm_start=False)"
      ]
     },
     "execution_count": 114,
     "metadata": {},
     "output_type": "execute_result"
    }
   ],
   "source": [
    "rf_long.fit(X_train,y_train_long)"
   ]
  },
  {
   "cell_type": "code",
   "execution_count": 115,
   "metadata": {},
   "outputs": [],
   "source": [
    "pred3_lat = rf_lat.predict(X_test)"
   ]
  },
  {
   "cell_type": "code",
   "execution_count": 116,
   "metadata": {},
   "outputs": [],
   "source": [
    "pred3_long = rf_long.predict(X_test)"
   ]
  },
  {
   "cell_type": "markdown",
   "metadata": {},
   "source": [
    "## Random Forest Evaluation"
   ]
  },
  {
   "cell_type": "code",
   "execution_count": 117,
   "metadata": {},
   "outputs": [
    {
     "name": "stdout",
     "output_type": "stream",
     "text": [
      "5.523093981539929\n"
     ]
    }
   ],
   "source": [
    "print(mean_absolute_error(y_test_lat,pred3_lat))"
   ]
  },
  {
   "cell_type": "code",
   "execution_count": 118,
   "metadata": {},
   "outputs": [
    {
     "name": "stdout",
     "output_type": "stream",
     "text": [
      "18.37358487523031\n"
     ]
    }
   ],
   "source": [
    "print(mean_absolute_error(y_test_long,pred3_long))"
   ]
  },
  {
   "cell_type": "code",
   "execution_count": 119,
   "metadata": {},
   "outputs": [
    {
     "name": "stdout",
     "output_type": "stream",
     "text": [
      "99.04063033483192\n"
     ]
    }
   ],
   "source": [
    "print(mean_squared_error(y_test_lat,pred3_lat))"
   ]
  },
  {
   "cell_type": "code",
   "execution_count": 120,
   "metadata": {},
   "outputs": [
    {
     "name": "stdout",
     "output_type": "stream",
     "text": [
      "1146.9665328883855\n"
     ]
    }
   ],
   "source": [
    "print(mean_squared_error(y_test_long,pred3_long))"
   ]
  },
  {
   "cell_type": "code",
   "execution_count": 121,
   "metadata": {},
   "outputs": [
    {
     "name": "stdout",
     "output_type": "stream",
     "text": [
      "0.09424810683338603\n"
     ]
    }
   ],
   "source": [
    "print(r2_score(y_test_lat,pred3_lat))"
   ]
  },
  {
   "cell_type": "code",
   "execution_count": 122,
   "metadata": {},
   "outputs": [
    {
     "name": "stdout",
     "output_type": "stream",
     "text": [
      "0.268086514660521\n"
     ]
    }
   ],
   "source": [
    "print(r2_score(y_test_long,pred3_long))"
   ]
  },
  {
   "cell_type": "markdown",
   "metadata": {},
   "source": [
    "## AdaBoost Regression"
   ]
  },
  {
   "cell_type": "code",
   "execution_count": 127,
   "metadata": {},
   "outputs": [],
   "source": [
    "from sklearn.ensemble import AdaBoostRegressor"
   ]
  },
  {
   "cell_type": "code",
   "execution_count": 129,
   "metadata": {},
   "outputs": [],
   "source": [
    "ada_lat = AdaBoostRegressor()"
   ]
  },
  {
   "cell_type": "code",
   "execution_count": 130,
   "metadata": {},
   "outputs": [],
   "source": [
    "ada_long = AdaBoostRegressor()"
   ]
  },
  {
   "cell_type": "code",
   "execution_count": 131,
   "metadata": {},
   "outputs": [
    {
     "data": {
      "text/plain": [
       "AdaBoostRegressor(base_estimator=None, learning_rate=1.0, loss='linear',\n",
       "                  n_estimators=50, random_state=None)"
      ]
     },
     "execution_count": 131,
     "metadata": {},
     "output_type": "execute_result"
    }
   ],
   "source": [
    "ada_lat.fit(X_train,y_train_lat)"
   ]
  },
  {
   "cell_type": "code",
   "execution_count": 132,
   "metadata": {},
   "outputs": [
    {
     "data": {
      "text/plain": [
       "AdaBoostRegressor(base_estimator=None, learning_rate=1.0, loss='linear',\n",
       "                  n_estimators=50, random_state=None)"
      ]
     },
     "execution_count": 132,
     "metadata": {},
     "output_type": "execute_result"
    }
   ],
   "source": [
    "ada_long.fit(X_train,y_train_long)"
   ]
  },
  {
   "cell_type": "code",
   "execution_count": 134,
   "metadata": {},
   "outputs": [],
   "source": [
    "pred4_lat = ada_lat.predict(X_test)"
   ]
  },
  {
   "cell_type": "code",
   "execution_count": 135,
   "metadata": {},
   "outputs": [],
   "source": [
    "pred4_long = ada_long.predict(X_test)"
   ]
  },
  {
   "cell_type": "markdown",
   "metadata": {},
   "source": [
    "## AdaBoost Evaluation"
   ]
  },
  {
   "cell_type": "code",
   "execution_count": 136,
   "metadata": {},
   "outputs": [
    {
     "name": "stdout",
     "output_type": "stream",
     "text": [
      "15.76775293884014\n"
     ]
    }
   ],
   "source": [
    "print(mean_absolute_error(y_test_lat,pred4_lat))"
   ]
  },
  {
   "cell_type": "code",
   "execution_count": 137,
   "metadata": {},
   "outputs": [
    {
     "name": "stdout",
     "output_type": "stream",
     "text": [
      "30.496567595191927\n"
     ]
    }
   ],
   "source": [
    "print(mean_absolute_error(y_test_long,pred4_long))"
   ]
  },
  {
   "cell_type": "code",
   "execution_count": 138,
   "metadata": {},
   "outputs": [
    {
     "name": "stdout",
     "output_type": "stream",
     "text": [
      "355.7808710038226\n"
     ]
    }
   ],
   "source": [
    "print(mean_squared_error(y_test_lat,pred4_lat))"
   ]
  },
  {
   "cell_type": "code",
   "execution_count": 139,
   "metadata": {},
   "outputs": [
    {
     "name": "stdout",
     "output_type": "stream",
     "text": [
      "1785.5286661127475\n"
     ]
    }
   ],
   "source": [
    "print(mean_squared_error(y_test_long,pred4_long))"
   ]
  },
  {
   "cell_type": "code",
   "execution_count": 140,
   "metadata": {},
   "outputs": [
    {
     "name": "stdout",
     "output_type": "stream",
     "text": [
      "-2.2537070531026933\n"
     ]
    }
   ],
   "source": [
    "print(r2_score(y_test_lat,pred4_lat))"
   ]
  },
  {
   "cell_type": "code",
   "execution_count": 141,
   "metadata": {},
   "outputs": [
    {
     "name": "stdout",
     "output_type": "stream",
     "text": [
      "-0.1393989900447299\n"
     ]
    }
   ],
   "source": [
    "print(r2_score(y_test_long,pred4_long))"
   ]
  },
  {
   "cell_type": "markdown",
   "metadata": {},
   "source": [
    "# End"
   ]
  }
 ],
 "metadata": {
  "kernelspec": {
   "display_name": "Python 3",
   "language": "python",
   "name": "python3"
  },
  "language_info": {
   "codemirror_mode": {
    "name": "ipython",
    "version": 3
   },
   "file_extension": ".py",
   "mimetype": "text/x-python",
   "name": "python",
   "nbconvert_exporter": "python",
   "pygments_lexer": "ipython3",
   "version": "3.7.4"
  }
 },
 "nbformat": 4,
 "nbformat_minor": 2
}
